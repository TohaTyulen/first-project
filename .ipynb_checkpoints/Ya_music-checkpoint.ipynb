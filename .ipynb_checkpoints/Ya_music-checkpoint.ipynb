{
 "cells": [
  {
   "cell_type": "markdown",
   "metadata": {
    "deletable": false,
    "editable": false,
    "id": "E0vqbgi9ay0H"
   },
   "source": [
    "# Яндекс Музыка"
   ]
  },
  {
   "cell_type": "markdown",
   "metadata": {
    "deletable": false,
    "editable": false,
    "id": "VUC88oWjTJw2"
   },
   "source": [
    "Сравнение Москвы и Петербурга окружено мифами. Например:\n",
    " * Москва — мегаполис, подчинённый жёсткому ритму рабочей недели;\n",
    " * Петербург — культурная столица, со своими вкусами.\n",
    "\n",
    "На данных Яндекс Музыки вы сравните поведение пользователей двух столиц.\n",
    "\n",
    "**Цель исследования** — проверьте три гипотезы:\n",
    "1. Активность пользователей зависит от дня недели. Причём в Москве и Петербурге это проявляется по-разному.\n",
    "2. В понедельник утром в Москве преобладают одни жанры, а в Петербурге — другие. Так же и вечером пятницы преобладают разные жанры — в зависимости от города.\n",
    "3. Москва и Петербург предпочитают разные жанры музыки. В Москве чаще слушают поп-музыку, в Петербурге — русский рэп.\n",
    "\n",
    "**Ход исследования**\n",
    "\n",
    "Данные о поведении пользователей вы получите из файла `yandex_music_project.csv`. О качестве данных ничего не известно. Поэтому перед проверкой гипотез понадобится обзор данных.\n",
    "\n",
    "Вы проверите данные на ошибки и оцените их влияние на исследование. Затем, на этапе предобработки вы поищете возможность исправить самые критичные ошибки данных.\n",
    "\n",
    "Таким образом, исследование пройдёт в три этапа:\n",
    " 1. Обзор данных.\n",
    " 2. Предобработка данных.\n",
    " 3. Проверка гипотез.\n",
    "\n"
   ]
  },
  {
   "cell_type": "markdown",
   "metadata": {
    "deletable": false,
    "editable": false,
    "id": "Ml1hmfXC_Zcs"
   },
   "source": [
    "## Обзор данных\n",
    "\n",
    "Составьте первое представление о данных Яндекс Музыки.\n",
    "\n",
    "\n"
   ]
  },
  {
   "cell_type": "markdown",
   "metadata": {
    "deletable": false,
    "editable": false,
    "id": "57eAOGIz_Zcs",
    "tags": [
     "start_task"
    ]
   },
   "source": [
    "**Задание 1**"
   ]
  },
  {
   "cell_type": "code",
   "execution_count": 1,
   "metadata": {
    "deletable": false,
    "id": "AXN7PHPN_Zcs"
   },
   "outputs": [],
   "source": [
    "import pandas as pd # импорт библиотеки pandas"
   ]
  },
  {
   "cell_type": "markdown",
   "metadata": {
    "deletable": false,
    "editable": false,
    "id": "SG23P8tt_Zcs",
    "tags": [
     "start_task"
    ]
   },
   "source": [
    "**Задание 2**"
   ]
  },
  {
   "cell_type": "code",
   "execution_count": 2,
   "metadata": {
    "deletable": false,
    "id": "fFVu7vqh_Zct"
   },
   "outputs": [],
   "source": [
    "df = pd.read_csv('/datasets/yandex_music_project.csv')# чтение файла с данными и сохранение в df"
   ]
  },
  {
   "cell_type": "code",
   "execution_count": null,
   "metadata": {},
   "outputs": [],
   "source": []
  },
  {
   "cell_type": "markdown",
   "metadata": {
    "deletable": false,
    "editable": false,
    "id": "rDoOMd3uTqnZ",
    "tags": [
     "start_task"
    ]
   },
   "source": [
    "**Задание 3**"
   ]
  },
  {
   "cell_type": "code",
   "execution_count": 3,
   "metadata": {
    "deletable": false,
    "id": "oWTVX3gW_Zct"
   },
   "outputs": [
    {
     "data": {
      "text/html": [
       "<div>\n",
       "<style scoped>\n",
       "    .dataframe tbody tr th:only-of-type {\n",
       "        vertical-align: middle;\n",
       "    }\n",
       "\n",
       "    .dataframe tbody tr th {\n",
       "        vertical-align: top;\n",
       "    }\n",
       "\n",
       "    .dataframe thead th {\n",
       "        text-align: right;\n",
       "    }\n",
       "</style>\n",
       "<table border=\"1\" class=\"dataframe\">\n",
       "  <thead>\n",
       "    <tr style=\"text-align: right;\">\n",
       "      <th></th>\n",
       "      <th>userID</th>\n",
       "      <th>Track</th>\n",
       "      <th>artist</th>\n",
       "      <th>genre</th>\n",
       "      <th>City</th>\n",
       "      <th>time</th>\n",
       "      <th>Day</th>\n",
       "    </tr>\n",
       "  </thead>\n",
       "  <tbody>\n",
       "    <tr>\n",
       "      <th>0</th>\n",
       "      <td>FFB692EC</td>\n",
       "      <td>Kamigata To Boots</td>\n",
       "      <td>The Mass Missile</td>\n",
       "      <td>rock</td>\n",
       "      <td>Saint-Petersburg</td>\n",
       "      <td>20:28:33</td>\n",
       "      <td>Wednesday</td>\n",
       "    </tr>\n",
       "    <tr>\n",
       "      <th>1</th>\n",
       "      <td>55204538</td>\n",
       "      <td>Delayed Because of Accident</td>\n",
       "      <td>Andreas Rönnberg</td>\n",
       "      <td>rock</td>\n",
       "      <td>Moscow</td>\n",
       "      <td>14:07:09</td>\n",
       "      <td>Friday</td>\n",
       "    </tr>\n",
       "    <tr>\n",
       "      <th>2</th>\n",
       "      <td>20EC38</td>\n",
       "      <td>Funiculì funiculà</td>\n",
       "      <td>Mario Lanza</td>\n",
       "      <td>pop</td>\n",
       "      <td>Saint-Petersburg</td>\n",
       "      <td>20:58:07</td>\n",
       "      <td>Wednesday</td>\n",
       "    </tr>\n",
       "    <tr>\n",
       "      <th>3</th>\n",
       "      <td>A3DD03C9</td>\n",
       "      <td>Dragons in the Sunset</td>\n",
       "      <td>Fire + Ice</td>\n",
       "      <td>folk</td>\n",
       "      <td>Saint-Petersburg</td>\n",
       "      <td>08:37:09</td>\n",
       "      <td>Monday</td>\n",
       "    </tr>\n",
       "    <tr>\n",
       "      <th>4</th>\n",
       "      <td>E2DC1FAE</td>\n",
       "      <td>Soul People</td>\n",
       "      <td>Space Echo</td>\n",
       "      <td>dance</td>\n",
       "      <td>Moscow</td>\n",
       "      <td>08:34:34</td>\n",
       "      <td>Monday</td>\n",
       "    </tr>\n",
       "    <tr>\n",
       "      <th>5</th>\n",
       "      <td>842029A1</td>\n",
       "      <td>Преданная</td>\n",
       "      <td>IMPERVTOR</td>\n",
       "      <td>rusrap</td>\n",
       "      <td>Saint-Petersburg</td>\n",
       "      <td>13:09:41</td>\n",
       "      <td>Friday</td>\n",
       "    </tr>\n",
       "    <tr>\n",
       "      <th>6</th>\n",
       "      <td>4CB90AA5</td>\n",
       "      <td>True</td>\n",
       "      <td>Roman Messer</td>\n",
       "      <td>dance</td>\n",
       "      <td>Moscow</td>\n",
       "      <td>13:00:07</td>\n",
       "      <td>Wednesday</td>\n",
       "    </tr>\n",
       "    <tr>\n",
       "      <th>7</th>\n",
       "      <td>F03E1C1F</td>\n",
       "      <td>Feeling This Way</td>\n",
       "      <td>Polina Griffith</td>\n",
       "      <td>dance</td>\n",
       "      <td>Moscow</td>\n",
       "      <td>20:47:49</td>\n",
       "      <td>Wednesday</td>\n",
       "    </tr>\n",
       "    <tr>\n",
       "      <th>8</th>\n",
       "      <td>8FA1D3BE</td>\n",
       "      <td>И вновь продолжается бой</td>\n",
       "      <td>NaN</td>\n",
       "      <td>ruspop</td>\n",
       "      <td>Moscow</td>\n",
       "      <td>09:17:40</td>\n",
       "      <td>Friday</td>\n",
       "    </tr>\n",
       "    <tr>\n",
       "      <th>9</th>\n",
       "      <td>E772D5C0</td>\n",
       "      <td>Pessimist</td>\n",
       "      <td>NaN</td>\n",
       "      <td>dance</td>\n",
       "      <td>Saint-Petersburg</td>\n",
       "      <td>21:20:49</td>\n",
       "      <td>Wednesday</td>\n",
       "    </tr>\n",
       "  </tbody>\n",
       "</table>\n",
       "</div>"
      ],
      "text/plain": [
       "     userID                        Track            artist   genre  \\\n",
       "0  FFB692EC            Kamigata To Boots  The Mass Missile    rock   \n",
       "1  55204538  Delayed Because of Accident  Andreas Rönnberg    rock   \n",
       "2    20EC38            Funiculì funiculà       Mario Lanza     pop   \n",
       "3  A3DD03C9        Dragons in the Sunset        Fire + Ice    folk   \n",
       "4  E2DC1FAE                  Soul People        Space Echo   dance   \n",
       "5  842029A1                    Преданная         IMPERVTOR  rusrap   \n",
       "6  4CB90AA5                         True      Roman Messer   dance   \n",
       "7  F03E1C1F             Feeling This Way   Polina Griffith   dance   \n",
       "8  8FA1D3BE     И вновь продолжается бой               NaN  ruspop   \n",
       "9  E772D5C0                    Pessimist               NaN   dance   \n",
       "\n",
       "             City        time        Day  \n",
       "0  Saint-Petersburg  20:28:33  Wednesday  \n",
       "1            Moscow  14:07:09     Friday  \n",
       "2  Saint-Petersburg  20:58:07  Wednesday  \n",
       "3  Saint-Petersburg  08:37:09     Monday  \n",
       "4            Moscow  08:34:34     Monday  \n",
       "5  Saint-Petersburg  13:09:41     Friday  \n",
       "6            Moscow  13:00:07  Wednesday  \n",
       "7            Moscow  20:47:49  Wednesday  \n",
       "8            Moscow  09:17:40     Friday  \n",
       "9  Saint-Petersburg  21:20:49  Wednesday  "
      ]
     },
     "execution_count": 3,
     "metadata": {},
     "output_type": "execute_result"
    }
   ],
   "source": [
    "df.head(10)# получение первых 10 строк таблицы df"
   ]
  },
  {
   "cell_type": "markdown",
   "metadata": {
    "deletable": false,
    "editable": false,
    "id": "EO73Kwic_Zct",
    "tags": [
     "start_task"
    ]
   },
   "source": [
    "**Задание 4**"
   ]
  },
  {
   "cell_type": "code",
   "execution_count": 4,
   "metadata": {
    "deletable": false,
    "id": "DSf2kIb-_Zct"
   },
   "outputs": [
    {
     "name": "stdout",
     "output_type": "stream",
     "text": [
      "<class 'pandas.core.frame.DataFrame'>\n",
      "RangeIndex: 65079 entries, 0 to 65078\n",
      "Data columns (total 7 columns):\n",
      " #   Column    Non-Null Count  Dtype \n",
      "---  ------    --------------  ----- \n",
      " 0     userID  65079 non-null  object\n",
      " 1   Track     63848 non-null  object\n",
      " 2   artist    57876 non-null  object\n",
      " 3   genre     63881 non-null  object\n",
      " 4     City    65079 non-null  object\n",
      " 5   time      65079 non-null  object\n",
      " 6   Day       65079 non-null  object\n",
      "dtypes: object(7)\n",
      "memory usage: 3.5+ MB\n"
     ]
    }
   ],
   "source": [
    "df.info()# получение общей информации о данных в таблице df"
   ]
  },
  {
   "cell_type": "markdown",
   "metadata": {
    "deletable": false,
    "editable": false,
    "id": "TaQ2Iwbr_Zct"
   },
   "source": [
    "Количество значений в столбцах различается. Значит, в данных есть пропущенные значения."
   ]
  },
  {
   "cell_type": "markdown",
   "metadata": {
    "deletable": false,
    "editable": false,
    "id": "4P0UCWzswgEm",
    "tags": [
     "start_task"
    ]
   },
   "source": [
    "**Задание 5**"
   ]
  },
  {
   "cell_type": "code",
   "execution_count": 5,
   "metadata": {
    "id": "c137-ZstwgEm"
   },
   "outputs": [],
   "source": [
    "# Есть пропущенные значения в столбцах Track, artist,  genre, возможно есть дубликаты, требуется предобработка данных  # Напишите ваш ответ здесь комментарием. Не удаляйте символ #. Не меняйте тип этой ячейки на Markdown."
   ]
  },
  {
   "cell_type": "markdown",
   "metadata": {
    "deletable": false,
    "editable": false,
    "id": "MCB6-dXG_Zct"
   },
   "source": [
    "**Выводы**\n",
    "\n",
    "В каждой строке таблицы — данные о прослушанном треке. Часть колонок описывает саму композицию: название, исполнителя и жанр. Остальные данные рассказывают о пользователе: из какого он города, когда он слушал музыку.\n",
    "\n",
    "Предварительно можно утверждать, что данных достаточно для проверки гипотез. Но встречаются пропуски в данных, а в названиях колонок — расхождения с хорошим стилем.\n",
    "\n",
    "Чтобы двигаться дальше, нужно устранить проблемы в данных."
   ]
  },
  {
   "cell_type": "markdown",
   "metadata": {
    "deletable": false,
    "editable": false,
    "id": "SjYF6Ub9_Zct"
   },
   "source": [
    "## Предобработка данных"
   ]
  },
  {
   "cell_type": "markdown",
   "metadata": {
    "deletable": false,
    "editable": false,
    "id": "dIaKXr29_Zct",
    "tags": [
     "start_task"
    ]
   },
   "source": [
    "### Переименование столбцов\n",
    "\n",
    "**Задание 6**"
   ]
  },
  {
   "cell_type": "code",
   "execution_count": 6,
   "metadata": {
    "deletable": false,
    "id": "oKOTdF_Q_Zct"
   },
   "outputs": [
    {
     "data": {
      "text/plain": [
       "Index(['  userID', 'Track', 'artist', 'genre', '  City  ', 'time', 'Day'], dtype='object')"
      ]
     },
     "execution_count": 6,
     "metadata": {},
     "output_type": "execute_result"
    }
   ],
   "source": [
    "df.columns # перечень названий столбцов таблицы df"
   ]
  },
  {
   "cell_type": "markdown",
   "metadata": {
    "deletable": false,
    "editable": false,
    "id": "zj5534cv_Zct",
    "tags": [
     "start_task"
    ]
   },
   "source": [
    "**Задание 7**"
   ]
  },
  {
   "cell_type": "code",
   "execution_count": 7,
   "metadata": {
    "deletable": false,
    "id": "ISlFqs5y_Zct"
   },
   "outputs": [],
   "source": [
    "df = df.rename(columns = {'  userID':'user_id', 'Track':'track', '  City  ':'city', 'Day':'day'})# переименование столбцов"
   ]
  },
  {
   "cell_type": "markdown",
   "metadata": {
    "deletable": false,
    "editable": false,
    "id": "1dqbh00J_Zct",
    "tags": [
     "start_task"
    ]
   },
   "source": [
    "**Задание 8**"
   ]
  },
  {
   "cell_type": "code",
   "execution_count": 8,
   "metadata": {
    "deletable": false,
    "id": "d4NOAmTW_Zct"
   },
   "outputs": [
    {
     "data": {
      "text/plain": [
       "Index(['user_id', 'track', 'artist', 'genre', 'city', 'time', 'day'], dtype='object')"
      ]
     },
     "execution_count": 8,
     "metadata": {},
     "output_type": "execute_result"
    }
   ],
   "source": [
    "df.columns # проверка результатов - перечень названий столбцов"
   ]
  },
  {
   "cell_type": "markdown",
   "metadata": {
    "deletable": false,
    "editable": false,
    "id": "5ISfbcfY_Zct",
    "tags": [
     "start_task"
    ]
   },
   "source": [
    "### Обработка пропущенных значений\n",
    "\n",
    "**Задание 9**"
   ]
  },
  {
   "cell_type": "code",
   "execution_count": 9,
   "metadata": {
    "deletable": false,
    "id": "RskX29qr_Zct"
   },
   "outputs": [
    {
     "data": {
      "text/plain": [
       "user_id       0\n",
       "track      1231\n",
       "artist     7203\n",
       "genre      1198\n",
       "city          0\n",
       "time          0\n",
       "day           0\n",
       "dtype: int64"
      ]
     },
     "execution_count": 9,
     "metadata": {},
     "output_type": "execute_result"
    }
   ],
   "source": [
    "df.isna().sum() # подсчёт пропусков"
   ]
  },
  {
   "cell_type": "markdown",
   "metadata": {
    "deletable": false,
    "editable": false,
    "id": "fSv2laPA_Zct",
    "tags": [
     "start_task"
    ]
   },
   "source": [
    "**Задание 10**"
   ]
  },
  {
   "cell_type": "code",
   "execution_count": 10,
   "metadata": {
    "deletable": false,
    "id": "KplB5qWs_Zct"
   },
   "outputs": [],
   "source": [
    "df = df.fillna('unknown')# замена пропущенных значений на 'unknown'"
   ]
  },
  {
   "cell_type": "markdown",
   "metadata": {
    "deletable": false,
    "editable": false,
    "id": "Ilsm-MZo_Zct",
    "tags": [
     "start_task"
    ]
   },
   "source": [
    "**Задание 11**"
   ]
  },
  {
   "cell_type": "code",
   "execution_count": 11,
   "metadata": {
    "deletable": false,
    "id": "Tq4nYRX4_Zct"
   },
   "outputs": [
    {
     "data": {
      "text/plain": [
       "user_id    0\n",
       "track      0\n",
       "artist     0\n",
       "genre      0\n",
       "city       0\n",
       "time       0\n",
       "day        0\n",
       "dtype: int64"
      ]
     },
     "execution_count": 11,
     "metadata": {},
     "output_type": "execute_result"
    }
   ],
   "source": [
    "df.isna().sum() # проверка на отсутствие пропусков"
   ]
  },
  {
   "cell_type": "markdown",
   "metadata": {
    "deletable": false,
    "editable": false,
    "id": "BWKRtBJ3_Zct",
    "tags": [
     "start_task"
    ]
   },
   "source": [
    "### Обработка дубликатов\n",
    "\n",
    "**Задание 12**"
   ]
  },
  {
   "cell_type": "code",
   "execution_count": 12,
   "metadata": {
    "deletable": false,
    "id": "36eES_S0_Zct"
   },
   "outputs": [
    {
     "data": {
      "text/plain": [
       "3826"
      ]
     },
     "execution_count": 12,
     "metadata": {},
     "output_type": "execute_result"
    }
   ],
   "source": [
    "df.duplicated().sum() # подсчёт явных дубликатов"
   ]
  },
  {
   "cell_type": "markdown",
   "metadata": {
    "deletable": false,
    "editable": false,
    "id": "Ot25h6XR_Zct",
    "tags": [
     "start_task"
    ]
   },
   "source": [
    "**Задание 13**"
   ]
  },
  {
   "cell_type": "code",
   "execution_count": 13,
   "metadata": {
    "deletable": false,
    "id": "exFHq6tt_Zct"
   },
   "outputs": [],
   "source": [
    "df = df.drop_duplicates().reset_index(drop=True)# удаление явных дубликатов, создание новых индексов и удаление старых"
   ]
  },
  {
   "cell_type": "markdown",
   "metadata": {
    "deletable": false,
    "editable": false,
    "id": "Im2YwBEG_Zct",
    "tags": [
     "start_task"
    ]
   },
   "source": [
    "**Задание 14**"
   ]
  },
  {
   "cell_type": "code",
   "execution_count": 14,
   "metadata": {
    "deletable": false,
    "id": "-8PuNWQ0_Zct"
   },
   "outputs": [
    {
     "data": {
      "text/plain": [
       "0"
      ]
     },
     "execution_count": 14,
     "metadata": {},
     "output_type": "execute_result"
    }
   ],
   "source": [
    "df.duplicated().sum() # проверка на отсутствие явных дубликатов"
   ]
  },
  {
   "cell_type": "markdown",
   "metadata": {
    "deletable": false,
    "editable": false,
    "id": "eSjWwsOh_Zct",
    "tags": [
     "start_task"
    ]
   },
   "source": [
    "**Задание 15**"
   ]
  },
  {
   "cell_type": "code",
   "execution_count": 15,
   "metadata": {
    "deletable": false,
    "id": "JIUcqzZN_Zct"
   },
   "outputs": [
    {
     "data": {
      "text/plain": [
       "array(['acid', 'acoustic', 'action', 'adult', 'africa', 'afrikaans',\n",
       "       'alternative', 'alternativepunk', 'ambient', 'americana',\n",
       "       'animated', 'anime', 'arabesk', 'arabic', 'arena',\n",
       "       'argentinetango', 'art', 'audiobook', 'author', 'avantgarde',\n",
       "       'axé', 'baile', 'balkan', 'beats', 'bigroom', 'black', 'bluegrass',\n",
       "       'blues', 'bollywood', 'bossa', 'brazilian', 'breakbeat', 'breaks',\n",
       "       'broadway', 'cantautori', 'cantopop', 'canzone', 'caribbean',\n",
       "       'caucasian', 'celtic', 'chamber', 'chanson', 'children', 'chill',\n",
       "       'chinese', 'choral', 'christian', 'christmas', 'classical',\n",
       "       'classicmetal', 'club', 'colombian', 'comedy', 'conjazz',\n",
       "       'contemporary', 'country', 'cuban', 'dance', 'dancehall',\n",
       "       'dancepop', 'dark', 'death', 'deep', 'deutschrock', 'deutschspr',\n",
       "       'dirty', 'disco', 'dnb', 'documentary', 'downbeat', 'downtempo',\n",
       "       'drum', 'dub', 'dubstep', 'eastern', 'easy', 'electronic',\n",
       "       'electropop', 'emo', 'entehno', 'epicmetal', 'estrada', 'ethnic',\n",
       "       'eurofolk', 'european', 'experimental', 'extrememetal', 'fado',\n",
       "       'fairytail', 'film', 'fitness', 'flamenco', 'folk', 'folklore',\n",
       "       'folkmetal', 'folkrock', 'folktronica', 'forró', 'frankreich',\n",
       "       'französisch', 'french', 'funk', 'future', 'gangsta', 'garage',\n",
       "       'german', 'ghazal', 'gitarre', 'glitch', 'gospel', 'gothic',\n",
       "       'grime', 'grunge', 'gypsy', 'handsup', \"hard'n'heavy\", 'hardcore',\n",
       "       'hardstyle', 'hardtechno', 'hip', 'hip-hop', 'hiphop',\n",
       "       'historisch', 'holiday', 'hop', 'horror', 'house', 'hymn', 'idm',\n",
       "       'independent', 'indian', 'indie', 'indipop', 'industrial',\n",
       "       'inspirational', 'instrumental', 'international', 'irish', 'jam',\n",
       "       'japanese', 'jazz', 'jewish', 'jpop', 'jungle', 'k-pop',\n",
       "       'karadeniz', 'karaoke', 'kayokyoku', 'korean', 'laiko', 'latin',\n",
       "       'latino', 'leftfield', 'local', 'lounge', 'loungeelectronic',\n",
       "       'lovers', 'malaysian', 'mandopop', 'marschmusik', 'meditative',\n",
       "       'mediterranean', 'melodic', 'metal', 'metalcore', 'mexican',\n",
       "       'middle', 'minimal', 'miscellaneous', 'modern', 'mood', 'mpb',\n",
       "       'muslim', 'native', 'neoklassik', 'neue', 'new', 'newage',\n",
       "       'newwave', 'nu', 'nujazz', 'numetal', 'oceania', 'old', 'opera',\n",
       "       'orchestral', 'other', 'piano', 'podcasts', 'pop', 'popdance',\n",
       "       'popelectronic', 'popeurodance', 'poprussian', 'post',\n",
       "       'posthardcore', 'postrock', 'power', 'progmetal', 'progressive',\n",
       "       'psychedelic', 'punjabi', 'punk', 'quebecois', 'ragga', 'ram',\n",
       "       'rancheras', 'rap', 'rave', 'reggae', 'reggaeton', 'regional',\n",
       "       'relax', 'religious', 'retro', 'rhythm', 'rnb', 'rnr', 'rock',\n",
       "       'rockabilly', 'rockalternative', 'rockindie', 'rockother',\n",
       "       'romance', 'roots', 'ruspop', 'rusrap', 'rusrock', 'russian',\n",
       "       'salsa', 'samba', 'scenic', 'schlager', 'self', 'sertanejo',\n",
       "       'shanson', 'shoegazing', 'showtunes', 'singer', 'ska', 'skarock',\n",
       "       'slow', 'smooth', 'soft', 'soul', 'soulful', 'sound', 'soundtrack',\n",
       "       'southern', 'specialty', 'speech', 'spiritual', 'sport',\n",
       "       'stonerrock', 'surf', 'swing', 'synthpop', 'synthrock',\n",
       "       'sängerportrait', 'tango', 'tanzorchester', 'taraftar', 'tatar',\n",
       "       'tech', 'techno', 'teen', 'thrash', 'top', 'traditional',\n",
       "       'tradjazz', 'trance', 'tribal', 'trip', 'triphop', 'tropical',\n",
       "       'türk', 'türkçe', 'ukrrock', 'unknown', 'urban', 'uzbek',\n",
       "       'variété', 'vi', 'videogame', 'vocal', 'western', 'world',\n",
       "       'worldbeat', 'ïîï', 'электроника'], dtype=object)"
      ]
     },
     "execution_count": 15,
     "metadata": {},
     "output_type": "execute_result"
    }
   ],
   "source": [
    "df['genre'].sort_values().unique() # просмотр уникальных отсортированных названий жанров"
   ]
  },
  {
   "cell_type": "markdown",
   "metadata": {
    "deletable": false,
    "editable": false,
    "id": "qej-Qmuo_Zct",
    "tags": [
     "start_task"
    ]
   },
   "source": [
    "**Задание 16**"
   ]
  },
  {
   "cell_type": "code",
   "execution_count": 16,
   "metadata": {
    "deletable": false,
    "id": "ErNDkmns_Zct"
   },
   "outputs": [],
   "source": [
    "df['genre'] = df['genre'].replace('hip', 'hiphop' )\n",
    "df['genre'] = df['genre'].replace('hop', 'hiphop' ) \n",
    "df['genre'] = df['genre'].replace('hip-hop', 'hiphop' ) # устранение неявных дубликатов"
   ]
  },
  {
   "cell_type": "markdown",
   "metadata": {
    "deletable": false,
    "editable": false,
    "id": "zQKF16_RG15m",
    "tags": [
     "start_task"
    ]
   },
   "source": [
    "**Задание 17**"
   ]
  },
  {
   "cell_type": "code",
   "execution_count": 17,
   "metadata": {
    "deletable": false,
    "id": "wvixALnFG15m"
   },
   "outputs": [
    {
     "data": {
      "text/plain": [
       "array(['acid', 'acoustic', 'action', 'adult', 'africa', 'afrikaans',\n",
       "       'alternative', 'alternativepunk', 'ambient', 'americana',\n",
       "       'animated', 'anime', 'arabesk', 'arabic', 'arena',\n",
       "       'argentinetango', 'art', 'audiobook', 'author', 'avantgarde',\n",
       "       'axé', 'baile', 'balkan', 'beats', 'bigroom', 'black', 'bluegrass',\n",
       "       'blues', 'bollywood', 'bossa', 'brazilian', 'breakbeat', 'breaks',\n",
       "       'broadway', 'cantautori', 'cantopop', 'canzone', 'caribbean',\n",
       "       'caucasian', 'celtic', 'chamber', 'chanson', 'children', 'chill',\n",
       "       'chinese', 'choral', 'christian', 'christmas', 'classical',\n",
       "       'classicmetal', 'club', 'colombian', 'comedy', 'conjazz',\n",
       "       'contemporary', 'country', 'cuban', 'dance', 'dancehall',\n",
       "       'dancepop', 'dark', 'death', 'deep', 'deutschrock', 'deutschspr',\n",
       "       'dirty', 'disco', 'dnb', 'documentary', 'downbeat', 'downtempo',\n",
       "       'drum', 'dub', 'dubstep', 'eastern', 'easy', 'electronic',\n",
       "       'electropop', 'emo', 'entehno', 'epicmetal', 'estrada', 'ethnic',\n",
       "       'eurofolk', 'european', 'experimental', 'extrememetal', 'fado',\n",
       "       'fairytail', 'film', 'fitness', 'flamenco', 'folk', 'folklore',\n",
       "       'folkmetal', 'folkrock', 'folktronica', 'forró', 'frankreich',\n",
       "       'französisch', 'french', 'funk', 'future', 'gangsta', 'garage',\n",
       "       'german', 'ghazal', 'gitarre', 'glitch', 'gospel', 'gothic',\n",
       "       'grime', 'grunge', 'gypsy', 'handsup', \"hard'n'heavy\", 'hardcore',\n",
       "       'hardstyle', 'hardtechno', 'hiphop', 'historisch', 'holiday',\n",
       "       'horror', 'house', 'hymn', 'idm', 'independent', 'indian', 'indie',\n",
       "       'indipop', 'industrial', 'inspirational', 'instrumental',\n",
       "       'international', 'irish', 'jam', 'japanese', 'jazz', 'jewish',\n",
       "       'jpop', 'jungle', 'k-pop', 'karadeniz', 'karaoke', 'kayokyoku',\n",
       "       'korean', 'laiko', 'latin', 'latino', 'leftfield', 'local',\n",
       "       'lounge', 'loungeelectronic', 'lovers', 'malaysian', 'mandopop',\n",
       "       'marschmusik', 'meditative', 'mediterranean', 'melodic', 'metal',\n",
       "       'metalcore', 'mexican', 'middle', 'minimal', 'miscellaneous',\n",
       "       'modern', 'mood', 'mpb', 'muslim', 'native', 'neoklassik', 'neue',\n",
       "       'new', 'newage', 'newwave', 'nu', 'nujazz', 'numetal', 'oceania',\n",
       "       'old', 'opera', 'orchestral', 'other', 'piano', 'podcasts', 'pop',\n",
       "       'popdance', 'popelectronic', 'popeurodance', 'poprussian', 'post',\n",
       "       'posthardcore', 'postrock', 'power', 'progmetal', 'progressive',\n",
       "       'psychedelic', 'punjabi', 'punk', 'quebecois', 'ragga', 'ram',\n",
       "       'rancheras', 'rap', 'rave', 'reggae', 'reggaeton', 'regional',\n",
       "       'relax', 'religious', 'retro', 'rhythm', 'rnb', 'rnr', 'rock',\n",
       "       'rockabilly', 'rockalternative', 'rockindie', 'rockother',\n",
       "       'romance', 'roots', 'ruspop', 'rusrap', 'rusrock', 'russian',\n",
       "       'salsa', 'samba', 'scenic', 'schlager', 'self', 'sertanejo',\n",
       "       'shanson', 'shoegazing', 'showtunes', 'singer', 'ska', 'skarock',\n",
       "       'slow', 'smooth', 'soft', 'soul', 'soulful', 'sound', 'soundtrack',\n",
       "       'southern', 'specialty', 'speech', 'spiritual', 'sport',\n",
       "       'stonerrock', 'surf', 'swing', 'synthpop', 'synthrock',\n",
       "       'sängerportrait', 'tango', 'tanzorchester', 'taraftar', 'tatar',\n",
       "       'tech', 'techno', 'teen', 'thrash', 'top', 'traditional',\n",
       "       'tradjazz', 'trance', 'tribal', 'trip', 'triphop', 'tropical',\n",
       "       'türk', 'türkçe', 'ukrrock', 'unknown', 'urban', 'uzbek',\n",
       "       'variété', 'vi', 'videogame', 'vocal', 'western', 'world',\n",
       "       'worldbeat', 'ïîï', 'электроника'], dtype=object)"
      ]
     },
     "execution_count": 17,
     "metadata": {},
     "output_type": "execute_result"
    }
   ],
   "source": [
    "df['genre'].sort_values().unique() # проверка на отсутствие неявных дубликатов"
   ]
  },
  {
   "cell_type": "markdown",
   "metadata": {
    "deletable": false,
    "editable": false,
    "id": "jz6a9-7HQUDd"
   },
   "source": [
    "**Выводы**\n",
    "\n",
    "Предобработка обнаружила три проблемы в данных:\n",
    "\n",
    "- нарушения в стиле заголовков,\n",
    "- пропущенные значения,\n",
    "- дубликаты — явные и неявные.\n",
    "\n",
    "Вы исправили заголовки, чтобы упростить работу с таблицей. Без дубликатов исследование станет более точным.\n",
    "\n",
    "Пропущенные значения вы заменили на `'unknown'`. Ещё предстоит увидеть, не повредят ли исследованию пропуски в колонке `genre`.\n",
    "\n",
    "Теперь можно перейти к проверке гипотез."
   ]
  },
  {
   "cell_type": "markdown",
   "metadata": {
    "deletable": false,
    "editable": false,
    "id": "WttZHXH0SqKk"
   },
   "source": [
    "## Проверка гипотез"
   ]
  },
  {
   "cell_type": "markdown",
   "metadata": {
    "deletable": false,
    "editable": false,
    "id": "Im936VVi_Zcu"
   },
   "source": [
    "### Сравнение поведения пользователей двух столиц"
   ]
  },
  {
   "cell_type": "markdown",
   "metadata": {
    "deletable": false,
    "editable": false,
    "id": "nwt_MuaL_Zcu"
   },
   "source": [
    "Первая гипотеза утверждает, что пользователи по-разному слушают музыку в Москве и Санкт-Петербурге. Проверим это предположение по данным о трёх днях недели — понедельнике, среде и пятнице. Для этого:\n",
    "\n",
    "* Разделим пользователей Москвы и Санкт-Петербурга.\n",
    "* Сравним, сколько треков послушала каждая группа пользователей в понедельник, среду и пятницу.\n"
   ]
  },
  {
   "cell_type": "markdown",
   "metadata": {
    "deletable": false,
    "id": "8Dw_YMmT_Zcu",
    "tags": [
     "start_task"
    ]
   },
   "source": [
    "**Задание 18**\n",
    "\n"
   ]
  },
  {
   "cell_type": "code",
   "execution_count": 18,
   "metadata": {
    "deletable": false,
    "id": "0_Qs96oh_Zcu"
   },
   "outputs": [
    {
     "data": {
      "text/plain": [
       "city\n",
       "Moscow              42741\n",
       "Saint-Petersburg    18512\n",
       "Name: track, dtype: int64"
      ]
     },
     "execution_count": 18,
     "metadata": {},
     "output_type": "execute_result"
    }
   ],
   "source": [
    "df.groupby('city')['track'].count()# подсчёт прослушиваний в каждом городе"
   ]
  },
  {
   "cell_type": "markdown",
   "metadata": {
    "id": "dzli3w8o_Zcu",
    "tags": [
     "start_task"
    ]
   },
   "source": [
    "**Задание 19**\n"
   ]
  },
  {
   "cell_type": "code",
   "execution_count": 19,
   "metadata": {
    "deletable": false,
    "id": "uZMKjiJz_Zcu"
   },
   "outputs": [
    {
     "data": {
      "text/plain": [
       "day\n",
       "Friday       21840\n",
       "Monday       21354\n",
       "Wednesday    18059\n",
       "Name: city, dtype: int64"
      ]
     },
     "execution_count": 19,
     "metadata": {},
     "output_type": "execute_result"
    }
   ],
   "source": [
    "df.groupby('day')['city'].count()# подсчёт прослушиваний в каждый из трёх дней"
   ]
  },
  {
   "cell_type": "markdown",
   "metadata": {
    "deletable": false,
    "editable": false,
    "id": "POzs8bGa_Zcu",
    "tags": [
     "start_task"
    ]
   },
   "source": [
    "**Задание 20**"
   ]
  },
  {
   "cell_type": "code",
   "execution_count": 20,
   "metadata": {
    "deletable": false,
    "id": "Nz3GdQB1_Zcu"
   },
   "outputs": [],
   "source": [
    "def number_tracks(day, city):\n",
    "    track_list = df[df['day'] == day] # выберите только строки df со значением переменной day в столбце day\n",
    "    track_list = track_list[track_list['city'] == city] # выберите только строки track_list со значением переменной city в столбце city\n",
    "    track_list_count = track_list['user_id'].count() # вызовите метод подсчета строк для track_list и выберите столбец user_id\n",
    "    return track_list_count # верните значение track_list_count из функции"
   ]
  },
  {
   "cell_type": "markdown",
   "metadata": {
    "deletable": false,
    "editable": false,
    "id": "ytf7xFrFJQ2r",
    "tags": [
     "start_task"
    ]
   },
   "source": [
    "**Задание 21**"
   ]
  },
  {
   "cell_type": "code",
   "execution_count": 21,
   "metadata": {
    "deletable": false,
    "id": "rJcRATNQ_Zcu"
   },
   "outputs": [
    {
     "data": {
      "text/plain": [
       "15740"
      ]
     },
     "execution_count": 21,
     "metadata": {},
     "output_type": "execute_result"
    }
   ],
   "source": [
    "number_tracks('Monday','Moscow')# количество прослушиваний в Москве по понедельникам"
   ]
  },
  {
   "cell_type": "code",
   "execution_count": 22,
   "metadata": {
    "deletable": false,
    "id": "hq_ncZ5T_Zcu"
   },
   "outputs": [
    {
     "data": {
      "text/plain": [
       "5614"
      ]
     },
     "execution_count": 22,
     "metadata": {},
     "output_type": "execute_result"
    }
   ],
   "source": [
    "number_tracks('Monday','Saint-Petersburg') # количество прослушиваний в Санкт-Петербурге по понедельникам"
   ]
  },
  {
   "cell_type": "code",
   "execution_count": 23,
   "metadata": {
    "deletable": false,
    "id": "_NTy2VPU_Zcu"
   },
   "outputs": [
    {
     "data": {
      "text/plain": [
       "11056"
      ]
     },
     "execution_count": 23,
     "metadata": {},
     "output_type": "execute_result"
    }
   ],
   "source": [
    "number_tracks('Wednesday','Moscow') # количество прослушиваний в Москве по средам"
   ]
  },
  {
   "cell_type": "code",
   "execution_count": 24,
   "metadata": {
    "deletable": false,
    "id": "j2y3TAwo_Zcu"
   },
   "outputs": [
    {
     "data": {
      "text/plain": [
       "7003"
      ]
     },
     "execution_count": 24,
     "metadata": {},
     "output_type": "execute_result"
    }
   ],
   "source": [
    "number_tracks('Wednesday','Saint-Petersburg') # количество прослушиваний в Санкт-Петербурге по средам"
   ]
  },
  {
   "cell_type": "code",
   "execution_count": 25,
   "metadata": {
    "deletable": false,
    "id": "vYDw5u_K_Zcu"
   },
   "outputs": [
    {
     "data": {
      "text/plain": [
       "15945"
      ]
     },
     "execution_count": 25,
     "metadata": {},
     "output_type": "execute_result"
    }
   ],
   "source": [
    "number_tracks('Friday','Moscow') # количество прослушиваний в Москве по пятницам"
   ]
  },
  {
   "cell_type": "code",
   "execution_count": 26,
   "metadata": {
    "deletable": false,
    "id": "8_yzFtW3_Zcu"
   },
   "outputs": [
    {
     "data": {
      "text/plain": [
       "5895"
      ]
     },
     "execution_count": 26,
     "metadata": {},
     "output_type": "execute_result"
    }
   ],
   "source": [
    "number_tracks('Friday','Saint-Petersburg') # количество прослушиваний в Санкт-Петербурге по пятницам"
   ]
  },
  {
   "cell_type": "markdown",
   "metadata": {
    "deletable": false,
    "editable": false,
    "id": "7QXffbO-_Zcu",
    "tags": [
     "start_task"
    ]
   },
   "source": [
    "**Задание 22**"
   ]
  },
  {
   "cell_type": "code",
   "execution_count": 27,
   "metadata": {
    "deletable": false,
    "id": "APAcLpOr_Zcu"
   },
   "outputs": [
    {
     "data": {
      "text/html": [
       "<div>\n",
       "<style scoped>\n",
       "    .dataframe tbody tr th:only-of-type {\n",
       "        vertical-align: middle;\n",
       "    }\n",
       "\n",
       "    .dataframe tbody tr th {\n",
       "        vertical-align: top;\n",
       "    }\n",
       "\n",
       "    .dataframe thead th {\n",
       "        text-align: right;\n",
       "    }\n",
       "</style>\n",
       "<table border=\"1\" class=\"dataframe\">\n",
       "  <thead>\n",
       "    <tr style=\"text-align: right;\">\n",
       "      <th></th>\n",
       "      <th>city</th>\n",
       "      <th>monday</th>\n",
       "      <th>wednesday</th>\n",
       "      <th>friday</th>\n",
       "    </tr>\n",
       "  </thead>\n",
       "  <tbody>\n",
       "    <tr>\n",
       "      <th>0</th>\n",
       "      <td>Moscow</td>\n",
       "      <td>15740</td>\n",
       "      <td>11056</td>\n",
       "      <td>15945</td>\n",
       "    </tr>\n",
       "    <tr>\n",
       "      <th>1</th>\n",
       "      <td>Saint-Petersburg</td>\n",
       "      <td>5614</td>\n",
       "      <td>7003</td>\n",
       "      <td>5895</td>\n",
       "    </tr>\n",
       "  </tbody>\n",
       "</table>\n",
       "</div>"
      ],
      "text/plain": [
       "               city  monday  wednesday  friday\n",
       "0            Moscow   15740      11056   15945\n",
       "1  Saint-Petersburg    5614       7003    5895"
      ]
     },
     "execution_count": 27,
     "metadata": {},
     "output_type": "execute_result"
    }
   ],
   "source": [
    "columns = ['city', 'monday', 'wednesday', 'friday']\n",
    "data = [['Moscow', number_tracks('Monday','Moscow'), number_tracks('Wednesday','Moscow'),number_tracks('Friday','Moscow')], ['Saint-Petersburg', number_tracks('Monday','Saint-Petersburg'), number_tracks('Wednesday','Saint-Petersburg'),number_tracks('Friday','Saint-Petersburg')]]\n",
    "\n",
    "info = pd.DataFrame(data =data, columns=columns)# создание таблицы с результатами\n",
    "info# вывод таблицы на экран"
   ]
  },
  {
   "cell_type": "markdown",
   "metadata": {
    "deletable": false,
    "editable": false,
    "id": "-EgPIHYu_Zcu"
   },
   "source": [
    "**Выводы**\n",
    "\n",
    "Данные показывают разницу поведения пользователей:\n",
    "\n",
    "- В Москве пик прослушиваний приходится на понедельник и пятницу, а в среду заметен спад.\n",
    "- В Петербурге, наоборот, больше слушают музыку по средам. Активность в понедельник и пятницу здесь почти в равной мере уступает среде.\n",
    "\n",
    "Значит, данные говорят в пользу первой гипотезы."
   ]
  },
  {
   "cell_type": "markdown",
   "metadata": {
    "deletable": false,
    "editable": false,
    "id": "atZAxtq4_Zcu"
   },
   "source": [
    "### Музыка в начале и в конце недели"
   ]
  },
  {
   "cell_type": "markdown",
   "metadata": {
    "deletable": false,
    "editable": false,
    "id": "eXrQqXFH_Zcu"
   },
   "source": [
    "Согласно второй гипотезе, утром в понедельник в Москве преобладают одни жанры, а в Петербурге — другие. Так же и вечером пятницы преобладают разные жанры — в зависимости от города."
   ]
  },
  {
   "cell_type": "markdown",
   "metadata": {
    "deletable": false,
    "editable": false,
    "id": "S8UcW6Hw_Zcu",
    "tags": [
     "start_task"
    ]
   },
   "source": [
    "**Задание 23**"
   ]
  },
  {
   "cell_type": "code",
   "execution_count": 28,
   "metadata": {
    "deletable": false,
    "id": "qeaFfM_P_Zcu"
   },
   "outputs": [],
   "source": [
    "moscow_general = df[df['city'] == 'Moscow']# получение таблицы moscow_general из тех строк таблицы df, для которых значение в столбце 'city' равно 'Moscow'\n"
   ]
  },
  {
   "cell_type": "code",
   "execution_count": 29,
   "metadata": {
    "deletable": false,
    "id": "ORaVRKto_Zcu"
   },
   "outputs": [],
   "source": [
    "spb_general = df[df['city'] == 'Saint-Petersburg']# получение таблицы spb_general из тех строк таблицы df, для которых значение в столбце 'city' равно 'Saint-Petersburg'\n"
   ]
  },
  {
   "cell_type": "markdown",
   "metadata": {
    "deletable": false,
    "editable": false,
    "id": "MEJV-CX2_Zcu",
    "tags": [
     "start_task"
    ]
   },
   "source": [
    "**Задание 24**"
   ]
  },
  {
   "cell_type": "code",
   "execution_count": 39,
   "metadata": {
    "deletable": false,
    "id": "laJT9BYl_Zcu"
   },
   "outputs": [],
   "source": [
    "def genre_weekday(df, day, time1, time2):\n",
    "    # последовательная фильтрация\n",
    "    # оставляем в genre_df только те строки df, у которых день равен day\n",
    "    genre_df = df[df['day'] == day] # ваш код здесь\n",
    "    # оставляем в genre_df только те строки genre_df, у которых время меньше time2\n",
    "    genre_df = genre_df[genre_df['time'] < time2] # ваш код здесь\n",
    "    # оставляем в genre_df только те строки genre_df, у которых время больше time1\n",
    "    genre_df = genre_df[genre_df['time'] > time1]# ваш код здесь\n",
    "    # сгруппируем отфильтрованный датафрейм по столбцу с названиями жанров, возьмём столбец genre и посчитаем кол-во строк для каждого жанра методом count()\n",
    "    genre_df_grouped = genre_df.groupby('genre')['genre'].count() # ваш код здесь\n",
    "    # отсортируем результат по убыванию (чтобы в начале Series оказались самые популярные жанры)\n",
    "    genre_df_sorted = genre_df_grouped.sort_values(ascending=False) # ваш код здесь\n",
    "    # вернём Series с 10 самыми популярными жанрами в указанный отрезок времени заданного дня\n",
    "    return genre_df_sorted[:10]"
   ]
  },
  {
   "cell_type": "markdown",
   "metadata": {
    "deletable": false,
    "editable": false,
    "id": "la2s2_PF_Zcu",
    "tags": [
     "start_task"
    ]
   },
   "source": [
    "**Задание 25**"
   ]
  },
  {
   "cell_type": "code",
   "execution_count": 40,
   "metadata": {
    "deletable": false,
    "id": "yz7itPUQ_Zcu"
   },
   "outputs": [
    {
     "data": {
      "text/plain": [
       "genre\n",
       "pop            781\n",
       "dance          549\n",
       "electronic     480\n",
       "rock           474\n",
       "hiphop         286\n",
       "ruspop         186\n",
       "world          181\n",
       "rusrap         175\n",
       "alternative    164\n",
       "unknown        161\n",
       "Name: genre, dtype: int64"
      ]
     },
     "execution_count": 40,
     "metadata": {},
     "output_type": "execute_result"
    }
   ],
   "source": [
    "genre_weekday(moscow_general, 'Monday', '07:00', '11:00') # вызов функции для утра понедельника в Москве (вместо df — таблица moscow_general)"
   ]
  },
  {
   "cell_type": "code",
   "execution_count": 41,
   "metadata": {
    "deletable": false,
    "id": "kwUcHPdy_Zcu"
   },
   "outputs": [
    {
     "data": {
      "text/plain": [
       "genre\n",
       "pop            218\n",
       "dance          182\n",
       "rock           162\n",
       "electronic     147\n",
       "hiphop          80\n",
       "ruspop          64\n",
       "alternative     58\n",
       "rusrap          55\n",
       "jazz            44\n",
       "classical       40\n",
       "Name: genre, dtype: int64"
      ]
     },
     "execution_count": 41,
     "metadata": {},
     "output_type": "execute_result"
    }
   ],
   "source": [
    "genre_weekday(spb_general, 'Monday', '07:00', '11:00') # вызов функции для утра понедельника в Петербурге (вместо df — таблица spb_general)"
   ]
  },
  {
   "cell_type": "code",
   "execution_count": 42,
   "metadata": {
    "deletable": false,
    "id": "EzXVRE1o_Zcu"
   },
   "outputs": [
    {
     "data": {
      "text/plain": [
       "genre\n",
       "pop            713\n",
       "rock           517\n",
       "dance          495\n",
       "electronic     482\n",
       "hiphop         273\n",
       "world          208\n",
       "ruspop         170\n",
       "alternative    163\n",
       "classical      163\n",
       "rusrap         142\n",
       "Name: genre, dtype: int64"
      ]
     },
     "execution_count": 42,
     "metadata": {},
     "output_type": "execute_result"
    }
   ],
   "source": [
    "genre_weekday(moscow_general, 'Friday', '17:00', '23:00') # вызов функции для вечера пятницы в Москве"
   ]
  },
  {
   "cell_type": "code",
   "execution_count": 43,
   "metadata": {
    "deletable": false,
    "id": "JZaEKu5v_Zcu"
   },
   "outputs": [
    {
     "data": {
      "text/plain": [
       "genre\n",
       "pop            256\n",
       "electronic     216\n",
       "rock           216\n",
       "dance          210\n",
       "hiphop          97\n",
       "alternative     63\n",
       "jazz            61\n",
       "classical       60\n",
       "rusrap          59\n",
       "world           54\n",
       "Name: genre, dtype: int64"
      ]
     },
     "execution_count": 43,
     "metadata": {},
     "output_type": "execute_result"
    }
   ],
   "source": [
    "genre_weekday(spb_general, 'Friday', '17:00', '23:00') # вызов функции для вечера пятницы в Петербурге"
   ]
  },
  {
   "cell_type": "markdown",
   "metadata": {
    "deletable": false,
    "editable": false,
    "id": "wrCe4MNX_Zcu"
   },
   "source": [
    "**Выводы**\n",
    "\n",
    "Если сравнить топ-10 жанров в понедельник утром, можно сделать такие выводы:\n",
    "\n",
    "1. В Москве и Петербурге слушают похожую музыку. Единственное различие — в московский рейтинг вошёл жанр “world”, а в петербургский — джаз и классика.\n",
    "\n",
    "2. В Москве пропущенных значений оказалось так много, что значение `'unknown'` заняло десятое место среди самых популярных жанров. Значит, пропущенные значения занимают существенную долю в данных и угрожают достоверности исследования.\n",
    "\n",
    "Вечер пятницы не меняет эту картину. Некоторые жанры поднимаются немного выше, другие спускаются, но в целом топ-10 остаётся тем же самым.\n",
    "\n",
    "Таким образом, вторая гипотеза подтвердилась лишь частично:\n",
    "* Пользователи слушают похожую музыку в начале недели и в конце.\n",
    "* Разница между Москвой и Петербургом не слишком выражена. В Москве чаще слушают русскую популярную музыку, в Петербурге — джаз.\n",
    "\n",
    "Однако пропуски в данных ставят под сомнение этот результат. В Москве их так много, что рейтинг топ-10 мог бы выглядеть иначе, если бы не утерянные  данные о жанрах."
   ]
  },
  {
   "cell_type": "markdown",
   "metadata": {
    "deletable": false,
    "editable": false,
    "id": "JolODAqr_Zcu"
   },
   "source": [
    "### Жанровые предпочтения в Москве и Петербурге\n",
    "\n",
    "Гипотеза: Петербург — столица рэпа, музыку этого жанра там слушают чаще, чем в Москве.  А Москва — город контрастов, в котором, тем не менее, преобладает поп-музыка."
   ]
  },
  {
   "cell_type": "markdown",
   "metadata": {
    "deletable": false,
    "editable": false,
    "id": "DlegSvaT_Zcu",
    "tags": [
     "start_task"
    ]
   },
   "source": [
    "**Задание 26**"
   ]
  },
  {
   "cell_type": "code",
   "execution_count": 44,
   "metadata": {
    "deletable": false,
    "id": "r19lIPke_Zcu"
   },
   "outputs": [],
   "source": [
    "moscow_genres = moscow_general.groupby('genre')['genre'].count()# одной строкой: группировка таблицы moscow_general по столбцу 'genre', выбор столбца `genre`, подсчёт числа значений 'genre' методом count(), сохранение в moscow_genres\n",
    "moscow_genres = moscow_genres.sort_values(ascending=False)# сортировка получившегося Series в порядке убывания и сохранение обратно в moscow_genres"
   ]
  },
  {
   "cell_type": "markdown",
   "metadata": {
    "deletable": false,
    "editable": false,
    "id": "6kMuomxTiIr8",
    "tags": [
     "start_task"
    ]
   },
   "source": [
    "**Задание 27**"
   ]
  },
  {
   "cell_type": "code",
   "execution_count": 45,
   "metadata": {
    "deletable": false,
    "id": "WhCSooF8_Zcv"
   },
   "outputs": [
    {
     "data": {
      "text/plain": [
       "genre\n",
       "pop            5892\n",
       "dance          4435\n",
       "rock           3965\n",
       "electronic     3786\n",
       "hiphop         2096\n",
       "classical      1616\n",
       "world          1432\n",
       "alternative    1379\n",
       "ruspop         1372\n",
       "rusrap         1161\n",
       "Name: genre, dtype: int64"
      ]
     },
     "execution_count": 45,
     "metadata": {},
     "output_type": "execute_result"
    }
   ],
   "source": [
    "moscow_genres.head(10)# просмотр первых 10 строк moscow_genres"
   ]
  },
  {
   "cell_type": "markdown",
   "metadata": {
    "deletable": false,
    "editable": false,
    "id": "cnPG2vnN_Zcv",
    "tags": [
     "start_task"
    ]
   },
   "source": [
    "**Задание 28**"
   ]
  },
  {
   "cell_type": "code",
   "execution_count": 46,
   "metadata": {
    "deletable": false,
    "id": "gluLIpE7_Zcv"
   },
   "outputs": [],
   "source": [
    "spb_genres = spb_general.groupby('genre')['genre'].count()# одной строкой: группировка таблицы spb_general по столбцу 'genre', выбор столбца `genre`, подсчёт числа значений 'genre' методом count(), сохранение в spb_genres\n",
    "spb_genres = spb_genres.sort_values(ascending=False) # сортировка получившегося Series в порядке убывания и сохранение обратно в spb_genres"
   ]
  },
  {
   "cell_type": "markdown",
   "metadata": {
    "deletable": false,
    "editable": false,
    "id": "5Doha_ODgyQ8",
    "tags": [
     "start_task"
    ]
   },
   "source": [
    "**Задание 29**"
   ]
  },
  {
   "cell_type": "code",
   "execution_count": 47,
   "metadata": {
    "deletable": false,
    "id": "uaGJHjVU_Zcv"
   },
   "outputs": [
    {
     "data": {
      "text/plain": [
       "genre\n",
       "pop            2431\n",
       "dance          1932\n",
       "rock           1879\n",
       "electronic     1736\n",
       "hiphop          960\n",
       "alternative     649\n",
       "classical       646\n",
       "rusrap          564\n",
       "ruspop          538\n",
       "world           515\n",
       "Name: genre, dtype: int64"
      ]
     },
     "execution_count": 47,
     "metadata": {},
     "output_type": "execute_result"
    }
   ],
   "source": [
    "spb_genres.head(10)# просмотр первых 10 строк spb_genres"
   ]
  },
  {
   "cell_type": "markdown",
   "metadata": {
    "deletable": false,
    "editable": false,
    "id": "RY51YJYu_Zcv"
   },
   "source": [
    "**Выводы**"
   ]
  },
  {
   "cell_type": "markdown",
   "metadata": {
    "deletable": false,
    "editable": false,
    "id": "nVhnJEm__Zcv"
   },
   "source": [
    "Гипотеза частично подтвердилась:\n",
    "* Поп-музыка — самый популярный жанр в Москве, как и предполагала гипотеза. Более того, в топ-10 жанров встречается близкий жанр — русская популярная музыка.\n",
    "* Вопреки ожиданиям, рэп одинаково популярен в Москве и Петербурге.\n"
   ]
  },
  {
   "cell_type": "markdown",
   "metadata": {
    "deletable": false,
    "editable": false,
    "id": "ykKQ0N65_Zcv"
   },
   "source": [
    "## Итоги исследования"
   ]
  },
  {
   "cell_type": "markdown",
   "metadata": {
    "deletable": false,
    "editable": false,
    "id": "tjUwbHb3_Zcv"
   },
   "source": [
    "Вы проверили три гипотезы и установили:\n",
    "\n",
    "1. День недели по-разному влияет на активность пользователей в Москве и Петербурге.\n",
    "\n",
    "Первая гипотеза полностью подтвердилась.\n",
    "\n",
    "2. Музыкальные предпочтения не сильно меняются в течение недели — будь то Москва или Петербург. Небольшие различия заметны в начале недели, по понедельникам:\n",
    "* в Москве слушают музыку жанра “world”,\n",
    "* в Петербурге — джаз и классику.\n",
    "\n",
    "Таким образом, вторая гипотеза подтвердилась лишь отчасти. Этот результат мог оказаться иным, если бы не пропуски в данных.\n",
    "\n",
    "3. Во вкусах пользователей Москвы и Петербурга больше общего, чем различий. Вопреки ожиданиям, предпочтения жанров в Петербурге напоминают московские.\n",
    "\n",
    "Третья гипотеза не подтвердилась. Если различия в предпочтениях и существуют, на основной массе пользователей они незаметны.\n",
    "\n",
    "**На практике исследования содержат проверки статистических гипотез.**\n",
    "Из части данных одного сервиса невозможно сделать какие-то выводы о всех пользователях сервиса без методов статистики.\n",
    "Проверки статистических гипотез покажут, насколько они достоверны, исходя из имеющихся данных.\n",
    "С методами проверок гипотез вы ещё познакомитесь в следующих темах."
   ]
  }
 ],
 "metadata": {
  "ExecuteTimeLog": [
   {
    "duration": 441,
    "start_time": "2024-03-22T09:09:54.934Z"
   },
   {
    "duration": 66,
    "start_time": "2024-03-22T09:12:21.018Z"
   },
   {
    "duration": 61,
    "start_time": "2024-03-22T09:12:48.605Z"
   },
   {
    "duration": 428,
    "start_time": "2024-03-22T09:13:16.355Z"
   },
   {
    "duration": 125,
    "start_time": "2024-03-22T09:14:39.214Z"
   },
   {
    "duration": 61,
    "start_time": "2024-03-22T09:15:04.708Z"
   },
   {
    "duration": 108,
    "start_time": "2024-03-22T09:18:20.710Z"
   },
   {
    "duration": 13,
    "start_time": "2024-03-22T09:18:51.376Z"
   },
   {
    "duration": 97,
    "start_time": "2024-03-22T09:19:11.900Z"
   },
   {
    "duration": 360,
    "start_time": "2024-03-22T09:22:35.713Z"
   },
   {
    "duration": 71,
    "start_time": "2024-03-22T09:22:36.075Z"
   },
   {
    "duration": 0,
    "start_time": "2024-03-22T09:22:36.149Z"
   },
   {
    "duration": 0,
    "start_time": "2024-03-22T09:22:36.150Z"
   },
   {
    "duration": 0,
    "start_time": "2024-03-22T09:22:36.151Z"
   },
   {
    "duration": 0,
    "start_time": "2024-03-22T09:22:36.169Z"
   },
   {
    "duration": 0,
    "start_time": "2024-03-22T09:22:36.170Z"
   },
   {
    "duration": 0,
    "start_time": "2024-03-22T09:22:36.171Z"
   },
   {
    "duration": 0,
    "start_time": "2024-03-22T09:22:36.172Z"
   },
   {
    "duration": 0,
    "start_time": "2024-03-22T09:22:36.173Z"
   },
   {
    "duration": 0,
    "start_time": "2024-03-22T09:22:36.174Z"
   },
   {
    "duration": 0,
    "start_time": "2024-03-22T09:22:36.175Z"
   },
   {
    "duration": 0,
    "start_time": "2024-03-22T09:22:36.176Z"
   },
   {
    "duration": 0,
    "start_time": "2024-03-22T09:22:36.177Z"
   },
   {
    "duration": 0,
    "start_time": "2024-03-22T09:22:36.177Z"
   },
   {
    "duration": 0,
    "start_time": "2024-03-22T09:22:36.178Z"
   },
   {
    "duration": 0,
    "start_time": "2024-03-22T09:22:36.180Z"
   },
   {
    "duration": 0,
    "start_time": "2024-03-22T09:22:36.180Z"
   },
   {
    "duration": 0,
    "start_time": "2024-03-22T09:22:36.181Z"
   },
   {
    "duration": 0,
    "start_time": "2024-03-22T09:22:36.182Z"
   },
   {
    "duration": 0,
    "start_time": "2024-03-22T09:22:36.183Z"
   },
   {
    "duration": 0,
    "start_time": "2024-03-22T09:22:36.184Z"
   },
   {
    "duration": 0,
    "start_time": "2024-03-22T09:22:36.185Z"
   },
   {
    "duration": 0,
    "start_time": "2024-03-22T09:22:36.186Z"
   },
   {
    "duration": 0,
    "start_time": "2024-03-22T09:22:36.187Z"
   },
   {
    "duration": 0,
    "start_time": "2024-03-22T09:22:36.188Z"
   },
   {
    "duration": 0,
    "start_time": "2024-03-22T09:22:36.189Z"
   },
   {
    "duration": 0,
    "start_time": "2024-03-22T09:22:36.190Z"
   },
   {
    "duration": 0,
    "start_time": "2024-03-22T09:22:36.191Z"
   },
   {
    "duration": 0,
    "start_time": "2024-03-22T09:22:36.192Z"
   },
   {
    "duration": 0,
    "start_time": "2024-03-22T09:22:36.193Z"
   },
   {
    "duration": 0,
    "start_time": "2024-03-22T09:22:36.194Z"
   },
   {
    "duration": 0,
    "start_time": "2024-03-22T09:22:36.194Z"
   },
   {
    "duration": 0,
    "start_time": "2024-03-22T09:22:36.195Z"
   },
   {
    "duration": 0,
    "start_time": "2024-03-22T09:22:36.196Z"
   },
   {
    "duration": 0,
    "start_time": "2024-03-22T09:22:36.197Z"
   },
   {
    "duration": 0,
    "start_time": "2024-03-22T09:22:36.198Z"
   },
   {
    "duration": 0,
    "start_time": "2024-03-22T09:22:36.199Z"
   },
   {
    "duration": 11,
    "start_time": "2024-03-22T09:24:50.681Z"
   },
   {
    "duration": 15,
    "start_time": "2024-03-22T09:29:44.578Z"
   },
   {
    "duration": 60,
    "start_time": "2024-03-22T09:31:19.575Z"
   },
   {
    "duration": 492,
    "start_time": "2024-03-22T09:37:47.135Z"
   },
   {
    "duration": 213,
    "start_time": "2024-03-22T09:38:05.876Z"
   },
   {
    "duration": 182,
    "start_time": "2024-03-22T09:38:27.860Z"
   },
   {
    "duration": 172,
    "start_time": "2024-03-22T09:38:39.366Z"
   },
   {
    "duration": 15,
    "start_time": "2024-03-22T09:40:04.373Z"
   },
   {
    "duration": 39,
    "start_time": "2024-03-22T09:41:00.566Z"
   },
   {
    "duration": 5,
    "start_time": "2024-03-22T09:52:07.712Z"
   },
   {
    "duration": 9,
    "start_time": "2024-03-22T09:59:46.921Z"
   },
   {
    "duration": 4,
    "start_time": "2024-03-22T10:00:10.150Z"
   },
   {
    "duration": 33,
    "start_time": "2024-03-22T10:03:32.598Z"
   },
   {
    "duration": 28,
    "start_time": "2024-03-22T10:06:57.518Z"
   },
   {
    "duration": 30,
    "start_time": "2024-03-22T10:12:39.391Z"
   },
   {
    "duration": 26,
    "start_time": "2024-03-22T10:12:54.172Z"
   },
   {
    "duration": 30,
    "start_time": "2024-03-22T10:15:58.297Z"
   },
   {
    "duration": 11,
    "start_time": "2024-03-22T10:20:32.007Z"
   },
   {
    "duration": 60,
    "start_time": "2024-03-22T10:20:44.345Z"
   },
   {
    "duration": 8,
    "start_time": "2024-03-22T10:22:36.185Z"
   },
   {
    "duration": 3,
    "start_time": "2024-03-22T10:22:38.003Z"
   },
   {
    "duration": 26,
    "start_time": "2024-03-22T10:22:49.491Z"
   },
   {
    "duration": 26,
    "start_time": "2024-03-22T10:22:54.138Z"
   },
   {
    "duration": 31,
    "start_time": "2024-03-22T10:23:01.780Z"
   },
   {
    "duration": 60,
    "start_time": "2024-03-22T10:23:06.243Z"
   },
   {
    "duration": 82,
    "start_time": "2024-03-22T10:25:16.105Z"
   },
   {
    "duration": 54,
    "start_time": "2024-03-22T10:26:14.407Z"
   },
   {
    "duration": 14,
    "start_time": "2024-03-22T10:30:01.757Z"
   },
   {
    "duration": 111,
    "start_time": "2024-03-22T10:35:17.029Z"
   },
   {
    "duration": 9,
    "start_time": "2024-03-22T10:35:37.616Z"
   },
   {
    "duration": 14,
    "start_time": "2024-03-22T10:57:33.472Z"
   },
   {
    "duration": 10,
    "start_time": "2024-03-22T10:57:40.357Z"
   },
   {
    "duration": 42,
    "start_time": "2024-03-22T10:58:53.410Z"
   },
   {
    "duration": 10,
    "start_time": "2024-03-22T16:10:26.174Z"
   },
   {
    "duration": 39,
    "start_time": "2024-03-22T16:10:29.294Z"
   },
   {
    "duration": 22,
    "start_time": "2024-03-22T16:14:21.796Z"
   },
   {
    "duration": 40,
    "start_time": "2024-03-22T16:14:25.006Z"
   },
   {
    "duration": 17,
    "start_time": "2024-03-22T16:17:34.218Z"
   },
   {
    "duration": 40,
    "start_time": "2024-03-22T16:17:36.438Z"
   },
   {
    "duration": 17,
    "start_time": "2024-03-22T16:19:48.348Z"
   },
   {
    "duration": 41,
    "start_time": "2024-03-22T16:19:50.359Z"
   },
   {
    "duration": 21,
    "start_time": "2024-03-22T16:21:55.865Z"
   },
   {
    "duration": 40,
    "start_time": "2024-03-22T16:21:57.503Z"
   },
   {
    "duration": 43,
    "start_time": "2024-03-22T16:27:27.626Z"
   },
   {
    "duration": 42,
    "start_time": "2024-03-22T16:27:31.379Z"
   },
   {
    "duration": 28,
    "start_time": "2024-03-22T16:30:50.755Z"
   },
   {
    "duration": 40,
    "start_time": "2024-03-22T16:30:52.674Z"
   },
   {
    "duration": 34,
    "start_time": "2024-03-22T16:36:11.292Z"
   },
   {
    "duration": 40,
    "start_time": "2024-03-22T16:36:12.790Z"
   },
   {
    "duration": 41,
    "start_time": "2024-03-22T16:38:52.526Z"
   },
   {
    "duration": 42,
    "start_time": "2024-03-22T16:38:54.207Z"
   },
   {
    "duration": 46,
    "start_time": "2024-03-22T16:41:30.908Z"
   },
   {
    "duration": 45,
    "start_time": "2024-03-22T16:41:32.408Z"
   },
   {
    "duration": 40,
    "start_time": "2024-03-22T16:46:18.039Z"
   },
   {
    "duration": 45,
    "start_time": "2024-03-22T16:46:20.122Z"
   },
   {
    "duration": 40,
    "start_time": "2024-03-22T16:47:30.023Z"
   },
   {
    "duration": 55,
    "start_time": "2024-03-22T16:47:32.604Z"
   },
   {
    "duration": 52,
    "start_time": "2024-03-22T16:49:34.781Z"
   },
   {
    "duration": 41,
    "start_time": "2024-03-22T16:49:36.467Z"
   },
   {
    "duration": 45,
    "start_time": "2024-03-22T16:51:03.646Z"
   },
   {
    "duration": 41,
    "start_time": "2024-03-22T16:51:04.913Z"
   },
   {
    "duration": 52,
    "start_time": "2024-03-22T16:56:02.174Z"
   },
   {
    "duration": 41,
    "start_time": "2024-03-22T16:56:03.723Z"
   },
   {
    "duration": 54,
    "start_time": "2024-03-22T16:57:49.583Z"
   },
   {
    "duration": 59,
    "start_time": "2024-03-22T16:57:52.219Z"
   },
   {
    "duration": 53,
    "start_time": "2024-03-22T17:09:03.684Z"
   },
   {
    "duration": 350,
    "start_time": "2024-03-22T17:09:31.315Z"
   },
   {
    "duration": 264,
    "start_time": "2024-03-22T17:09:31.668Z"
   },
   {
    "duration": 16,
    "start_time": "2024-03-22T17:09:31.933Z"
   },
   {
    "duration": 103,
    "start_time": "2024-03-22T17:09:31.951Z"
   },
   {
    "duration": 79,
    "start_time": "2024-03-22T17:09:32.056Z"
   },
   {
    "duration": 47,
    "start_time": "2024-03-22T17:09:32.137Z"
   },
   {
    "duration": 48,
    "start_time": "2024-03-22T17:09:32.186Z"
   },
   {
    "duration": 18,
    "start_time": "2024-03-22T17:09:32.236Z"
   },
   {
    "duration": 52,
    "start_time": "2024-03-22T17:09:32.256Z"
   },
   {
    "duration": 67,
    "start_time": "2024-03-22T17:09:32.311Z"
   },
   {
    "duration": 49,
    "start_time": "2024-03-22T17:09:32.379Z"
   },
   {
    "duration": 66,
    "start_time": "2024-03-22T17:09:32.430Z"
   },
   {
    "duration": 93,
    "start_time": "2024-03-22T17:09:32.498Z"
   },
   {
    "duration": 54,
    "start_time": "2024-03-22T17:09:32.593Z"
   },
   {
    "duration": 52,
    "start_time": "2024-03-22T17:09:32.649Z"
   },
   {
    "duration": 70,
    "start_time": "2024-03-22T17:09:32.703Z"
   },
   {
    "duration": 39,
    "start_time": "2024-03-22T17:09:32.774Z"
   },
   {
    "duration": 281,
    "start_time": "2024-03-22T17:09:32.814Z"
   },
   {
    "duration": 2,
    "start_time": "2024-03-22T17:09:33.096Z"
   },
   {
    "duration": 101,
    "start_time": "2024-03-22T17:09:33.100Z"
   },
   {
    "duration": 0,
    "start_time": "2024-03-22T17:09:33.203Z"
   },
   {
    "duration": 0,
    "start_time": "2024-03-22T17:09:33.204Z"
   },
   {
    "duration": 0,
    "start_time": "2024-03-22T17:09:33.205Z"
   },
   {
    "duration": 0,
    "start_time": "2024-03-22T17:09:33.206Z"
   },
   {
    "duration": 0,
    "start_time": "2024-03-22T17:09:33.208Z"
   },
   {
    "duration": 0,
    "start_time": "2024-03-22T17:09:33.209Z"
   },
   {
    "duration": 0,
    "start_time": "2024-03-22T17:09:33.210Z"
   },
   {
    "duration": 0,
    "start_time": "2024-03-22T17:09:33.211Z"
   },
   {
    "duration": 0,
    "start_time": "2024-03-22T17:09:33.213Z"
   },
   {
    "duration": 0,
    "start_time": "2024-03-22T17:09:33.214Z"
   },
   {
    "duration": 0,
    "start_time": "2024-03-22T17:09:33.216Z"
   },
   {
    "duration": 0,
    "start_time": "2024-03-22T17:09:33.217Z"
   },
   {
    "duration": 0,
    "start_time": "2024-03-22T17:09:33.218Z"
   },
   {
    "duration": 0,
    "start_time": "2024-03-22T17:09:33.219Z"
   },
   {
    "duration": 0,
    "start_time": "2024-03-22T17:09:33.221Z"
   },
   {
    "duration": 1,
    "start_time": "2024-03-22T17:09:33.222Z"
   },
   {
    "duration": 0,
    "start_time": "2024-03-22T17:09:33.224Z"
   },
   {
    "duration": 0,
    "start_time": "2024-03-22T17:09:33.225Z"
   },
   {
    "duration": 11,
    "start_time": "2024-03-22T17:12:27.970Z"
   },
   {
    "duration": 12,
    "start_time": "2024-03-22T17:13:55.090Z"
   },
   {
    "duration": 376,
    "start_time": "2024-03-22T17:14:09.295Z"
   },
   {
    "duration": 161,
    "start_time": "2024-03-22T17:14:09.672Z"
   },
   {
    "duration": 16,
    "start_time": "2024-03-22T17:14:09.834Z"
   },
   {
    "duration": 45,
    "start_time": "2024-03-22T17:14:09.852Z"
   },
   {
    "duration": 2,
    "start_time": "2024-03-22T17:14:09.898Z"
   },
   {
    "duration": 9,
    "start_time": "2024-03-22T17:14:09.902Z"
   },
   {
    "duration": 16,
    "start_time": "2024-03-22T17:14:09.913Z"
   },
   {
    "duration": 4,
    "start_time": "2024-03-22T17:14:09.931Z"
   },
   {
    "duration": 45,
    "start_time": "2024-03-22T17:14:09.937Z"
   },
   {
    "duration": 32,
    "start_time": "2024-03-22T17:14:09.984Z"
   },
   {
    "duration": 39,
    "start_time": "2024-03-22T17:14:10.017Z"
   },
   {
    "duration": 70,
    "start_time": "2024-03-22T17:14:10.058Z"
   },
   {
    "duration": 96,
    "start_time": "2024-03-22T17:14:10.129Z"
   },
   {
    "duration": 63,
    "start_time": "2024-03-22T17:14:10.226Z"
   },
   {
    "duration": 41,
    "start_time": "2024-03-22T17:14:10.290Z"
   },
   {
    "duration": 73,
    "start_time": "2024-03-22T17:14:10.333Z"
   },
   {
    "duration": 50,
    "start_time": "2024-03-22T17:14:10.407Z"
   },
   {
    "duration": 29,
    "start_time": "2024-03-22T17:14:10.458Z"
   },
   {
    "duration": 3,
    "start_time": "2024-03-22T17:14:10.489Z"
   },
   {
    "duration": 102,
    "start_time": "2024-03-22T17:14:10.494Z"
   },
   {
    "duration": 0,
    "start_time": "2024-03-22T17:14:10.597Z"
   },
   {
    "duration": 0,
    "start_time": "2024-03-22T17:14:10.599Z"
   },
   {
    "duration": 0,
    "start_time": "2024-03-22T17:14:10.599Z"
   },
   {
    "duration": 0,
    "start_time": "2024-03-22T17:14:10.601Z"
   },
   {
    "duration": 0,
    "start_time": "2024-03-22T17:14:10.602Z"
   },
   {
    "duration": 0,
    "start_time": "2024-03-22T17:14:10.603Z"
   },
   {
    "duration": 0,
    "start_time": "2024-03-22T17:14:10.604Z"
   },
   {
    "duration": 0,
    "start_time": "2024-03-22T17:14:10.605Z"
   },
   {
    "duration": 0,
    "start_time": "2024-03-22T17:14:10.606Z"
   },
   {
    "duration": 0,
    "start_time": "2024-03-22T17:14:10.607Z"
   },
   {
    "duration": 0,
    "start_time": "2024-03-22T17:14:10.608Z"
   },
   {
    "duration": 0,
    "start_time": "2024-03-22T17:14:10.609Z"
   },
   {
    "duration": 0,
    "start_time": "2024-03-22T17:14:10.610Z"
   },
   {
    "duration": 0,
    "start_time": "2024-03-22T17:14:10.611Z"
   },
   {
    "duration": 0,
    "start_time": "2024-03-22T17:14:10.612Z"
   },
   {
    "duration": 0,
    "start_time": "2024-03-22T17:14:10.612Z"
   },
   {
    "duration": 0,
    "start_time": "2024-03-22T17:14:10.614Z"
   },
   {
    "duration": 0,
    "start_time": "2024-03-22T17:14:10.614Z"
   },
   {
    "duration": 393,
    "start_time": "2024-03-22T17:17:52.437Z"
   },
   {
    "duration": 160,
    "start_time": "2024-03-22T17:17:52.832Z"
   },
   {
    "duration": 16,
    "start_time": "2024-03-22T17:17:52.994Z"
   },
   {
    "duration": 28,
    "start_time": "2024-03-22T17:17:53.012Z"
   },
   {
    "duration": 2,
    "start_time": "2024-03-22T17:17:53.042Z"
   },
   {
    "duration": 25,
    "start_time": "2024-03-22T17:17:53.045Z"
   },
   {
    "duration": 10,
    "start_time": "2024-03-22T17:17:53.071Z"
   },
   {
    "duration": 7,
    "start_time": "2024-03-22T17:17:53.082Z"
   },
   {
    "duration": 38,
    "start_time": "2024-03-22T17:17:53.091Z"
   },
   {
    "duration": 44,
    "start_time": "2024-03-22T17:17:53.131Z"
   },
   {
    "duration": 41,
    "start_time": "2024-03-22T17:17:53.177Z"
   },
   {
    "duration": 80,
    "start_time": "2024-03-22T17:17:53.220Z"
   },
   {
    "duration": 93,
    "start_time": "2024-03-22T17:17:53.302Z"
   },
   {
    "duration": 53,
    "start_time": "2024-03-22T17:17:53.397Z"
   },
   {
    "duration": 49,
    "start_time": "2024-03-22T17:17:53.451Z"
   },
   {
    "duration": 55,
    "start_time": "2024-03-22T17:17:53.501Z"
   },
   {
    "duration": 46,
    "start_time": "2024-03-22T17:17:53.558Z"
   },
   {
    "duration": 12,
    "start_time": "2024-03-22T17:17:53.605Z"
   },
   {
    "duration": 11,
    "start_time": "2024-03-22T17:17:53.618Z"
   },
   {
    "duration": 100,
    "start_time": "2024-03-22T17:17:53.630Z"
   },
   {
    "duration": 0,
    "start_time": "2024-03-22T17:17:53.731Z"
   },
   {
    "duration": 0,
    "start_time": "2024-03-22T17:17:53.732Z"
   },
   {
    "duration": 0,
    "start_time": "2024-03-22T17:17:53.733Z"
   },
   {
    "duration": 0,
    "start_time": "2024-03-22T17:17:53.734Z"
   },
   {
    "duration": 0,
    "start_time": "2024-03-22T17:17:53.735Z"
   },
   {
    "duration": 0,
    "start_time": "2024-03-22T17:17:53.736Z"
   },
   {
    "duration": 0,
    "start_time": "2024-03-22T17:17:53.737Z"
   },
   {
    "duration": 0,
    "start_time": "2024-03-22T17:17:53.738Z"
   },
   {
    "duration": 0,
    "start_time": "2024-03-22T17:17:53.738Z"
   },
   {
    "duration": 0,
    "start_time": "2024-03-22T17:17:53.739Z"
   },
   {
    "duration": 0,
    "start_time": "2024-03-22T17:17:53.740Z"
   },
   {
    "duration": 0,
    "start_time": "2024-03-22T17:17:53.741Z"
   },
   {
    "duration": 0,
    "start_time": "2024-03-22T17:17:53.742Z"
   },
   {
    "duration": 0,
    "start_time": "2024-03-22T17:17:53.743Z"
   },
   {
    "duration": 0,
    "start_time": "2024-03-22T17:17:53.744Z"
   },
   {
    "duration": 0,
    "start_time": "2024-03-22T17:17:53.745Z"
   },
   {
    "duration": 0,
    "start_time": "2024-03-22T17:17:53.746Z"
   },
   {
    "duration": 0,
    "start_time": "2024-03-22T17:17:53.747Z"
   },
   {
    "duration": 62,
    "start_time": "2024-03-22T17:26:22.432Z"
   },
   {
    "duration": 7,
    "start_time": "2024-03-22T17:30:45.773Z"
   },
   {
    "duration": 19,
    "start_time": "2024-03-22T17:31:18.903Z"
   },
   {
    "duration": 26,
    "start_time": "2024-03-22T17:32:08.014Z"
   },
   {
    "duration": 21,
    "start_time": "2024-03-22T17:33:14.849Z"
   },
   {
    "duration": 12,
    "start_time": "2024-03-22T17:35:24.999Z"
   },
   {
    "duration": 347,
    "start_time": "2024-03-22T17:44:03.816Z"
   },
   {
    "duration": 162,
    "start_time": "2024-03-22T17:44:04.165Z"
   },
   {
    "duration": 21,
    "start_time": "2024-03-22T17:44:04.328Z"
   },
   {
    "duration": 39,
    "start_time": "2024-03-22T17:44:04.350Z"
   },
   {
    "duration": 5,
    "start_time": "2024-03-22T17:44:04.390Z"
   },
   {
    "duration": 5,
    "start_time": "2024-03-22T17:44:04.396Z"
   },
   {
    "duration": 12,
    "start_time": "2024-03-22T17:44:04.402Z"
   },
   {
    "duration": 21,
    "start_time": "2024-03-22T17:44:04.415Z"
   },
   {
    "duration": 26,
    "start_time": "2024-03-22T17:44:04.438Z"
   },
   {
    "duration": 32,
    "start_time": "2024-03-22T17:44:04.468Z"
   },
   {
    "duration": 32,
    "start_time": "2024-03-22T17:44:04.502Z"
   },
   {
    "duration": 68,
    "start_time": "2024-03-22T17:44:04.535Z"
   },
   {
    "duration": 89,
    "start_time": "2024-03-22T17:44:04.605Z"
   },
   {
    "duration": 51,
    "start_time": "2024-03-22T17:44:04.695Z"
   },
   {
    "duration": 52,
    "start_time": "2024-03-22T17:44:04.748Z"
   },
   {
    "duration": 56,
    "start_time": "2024-03-22T17:44:04.801Z"
   },
   {
    "duration": 37,
    "start_time": "2024-03-22T17:44:04.869Z"
   },
   {
    "duration": 11,
    "start_time": "2024-03-22T17:44:04.908Z"
   },
   {
    "duration": 10,
    "start_time": "2024-03-22T17:44:04.920Z"
   },
   {
    "duration": 107,
    "start_time": "2024-03-22T17:44:04.931Z"
   },
   {
    "duration": 0,
    "start_time": "2024-03-22T17:44:05.039Z"
   },
   {
    "duration": 0,
    "start_time": "2024-03-22T17:44:05.040Z"
   },
   {
    "duration": 0,
    "start_time": "2024-03-22T17:44:05.041Z"
   },
   {
    "duration": 0,
    "start_time": "2024-03-22T17:44:05.043Z"
   },
   {
    "duration": 0,
    "start_time": "2024-03-22T17:44:05.044Z"
   },
   {
    "duration": 0,
    "start_time": "2024-03-22T17:44:05.045Z"
   },
   {
    "duration": 0,
    "start_time": "2024-03-22T17:44:05.045Z"
   },
   {
    "duration": 0,
    "start_time": "2024-03-22T17:44:05.046Z"
   },
   {
    "duration": 0,
    "start_time": "2024-03-22T17:44:05.047Z"
   },
   {
    "duration": 0,
    "start_time": "2024-03-22T17:44:05.048Z"
   },
   {
    "duration": 0,
    "start_time": "2024-03-22T17:44:05.050Z"
   },
   {
    "duration": 0,
    "start_time": "2024-03-22T17:44:05.051Z"
   },
   {
    "duration": 0,
    "start_time": "2024-03-22T17:44:05.052Z"
   },
   {
    "duration": 0,
    "start_time": "2024-03-22T17:44:05.053Z"
   },
   {
    "duration": 0,
    "start_time": "2024-03-22T17:44:05.055Z"
   },
   {
    "duration": 0,
    "start_time": "2024-03-22T17:44:05.055Z"
   },
   {
    "duration": 0,
    "start_time": "2024-03-22T17:44:05.056Z"
   },
   {
    "duration": 0,
    "start_time": "2024-03-22T17:44:05.057Z"
   },
   {
    "duration": 98,
    "start_time": "2024-03-22T17:51:31.093Z"
   },
   {
    "duration": 412,
    "start_time": "2024-03-22T17:51:43.844Z"
   },
   {
    "duration": 176,
    "start_time": "2024-03-22T17:51:44.257Z"
   },
   {
    "duration": 18,
    "start_time": "2024-03-22T17:51:44.435Z"
   },
   {
    "duration": 39,
    "start_time": "2024-03-22T17:51:44.456Z"
   },
   {
    "duration": 3,
    "start_time": "2024-03-22T17:51:44.497Z"
   },
   {
    "duration": 22,
    "start_time": "2024-03-22T17:51:44.501Z"
   },
   {
    "duration": 23,
    "start_time": "2024-03-22T17:51:44.525Z"
   },
   {
    "duration": 9,
    "start_time": "2024-03-22T17:51:44.549Z"
   },
   {
    "duration": 36,
    "start_time": "2024-03-22T17:51:44.559Z"
   },
   {
    "duration": 34,
    "start_time": "2024-03-22T17:51:44.597Z"
   },
   {
    "duration": 29,
    "start_time": "2024-03-22T17:51:44.633Z"
   },
   {
    "duration": 62,
    "start_time": "2024-03-22T17:51:44.669Z"
   },
   {
    "duration": 101,
    "start_time": "2024-03-22T17:51:44.733Z"
   },
   {
    "duration": 57,
    "start_time": "2024-03-22T17:51:44.836Z"
   },
   {
    "duration": 40,
    "start_time": "2024-03-22T17:51:44.895Z"
   },
   {
    "duration": 66,
    "start_time": "2024-03-22T17:51:44.936Z"
   },
   {
    "duration": 40,
    "start_time": "2024-03-22T17:51:45.003Z"
   },
   {
    "duration": 32,
    "start_time": "2024-03-22T17:51:45.045Z"
   },
   {
    "duration": 10,
    "start_time": "2024-03-22T17:51:45.079Z"
   },
   {
    "duration": 98,
    "start_time": "2024-03-22T17:51:45.090Z"
   },
   {
    "duration": 0,
    "start_time": "2024-03-22T17:51:45.189Z"
   },
   {
    "duration": 0,
    "start_time": "2024-03-22T17:51:45.190Z"
   },
   {
    "duration": 0,
    "start_time": "2024-03-22T17:51:45.191Z"
   },
   {
    "duration": 0,
    "start_time": "2024-03-22T17:51:45.192Z"
   },
   {
    "duration": 0,
    "start_time": "2024-03-22T17:51:45.193Z"
   },
   {
    "duration": 0,
    "start_time": "2024-03-22T17:51:45.194Z"
   },
   {
    "duration": 0,
    "start_time": "2024-03-22T17:51:45.195Z"
   },
   {
    "duration": 0,
    "start_time": "2024-03-22T17:51:45.196Z"
   },
   {
    "duration": 0,
    "start_time": "2024-03-22T17:51:45.197Z"
   },
   {
    "duration": 0,
    "start_time": "2024-03-22T17:51:45.198Z"
   },
   {
    "duration": 0,
    "start_time": "2024-03-22T17:51:45.198Z"
   },
   {
    "duration": 1,
    "start_time": "2024-03-22T17:51:45.199Z"
   },
   {
    "duration": 0,
    "start_time": "2024-03-22T17:51:45.200Z"
   },
   {
    "duration": 0,
    "start_time": "2024-03-22T17:51:45.201Z"
   },
   {
    "duration": 0,
    "start_time": "2024-03-22T17:51:45.202Z"
   },
   {
    "duration": 0,
    "start_time": "2024-03-22T17:51:45.203Z"
   },
   {
    "duration": 0,
    "start_time": "2024-03-22T17:51:45.204Z"
   },
   {
    "duration": 0,
    "start_time": "2024-03-22T17:51:45.205Z"
   },
   {
    "duration": 4,
    "start_time": "2024-03-22T17:52:19.638Z"
   },
   {
    "duration": 17,
    "start_time": "2024-03-22T17:54:08.495Z"
   },
   {
    "duration": 16,
    "start_time": "2024-03-22T17:54:48.297Z"
   },
   {
    "duration": 15,
    "start_time": "2024-03-22T17:55:34.821Z"
   },
   {
    "duration": 22,
    "start_time": "2024-03-22T17:56:20.905Z"
   },
   {
    "duration": 17,
    "start_time": "2024-03-22T17:57:09.313Z"
   },
   {
    "duration": 15,
    "start_time": "2024-03-22T17:57:36.475Z"
   },
   {
    "duration": 64,
    "start_time": "2024-03-22T18:16:36.018Z"
   },
   {
    "duration": 371,
    "start_time": "2024-03-22T18:16:48.918Z"
   },
   {
    "duration": 174,
    "start_time": "2024-03-22T18:16:49.290Z"
   },
   {
    "duration": 16,
    "start_time": "2024-03-22T18:16:49.465Z"
   },
   {
    "duration": 35,
    "start_time": "2024-03-22T18:16:49.483Z"
   },
   {
    "duration": 3,
    "start_time": "2024-03-22T18:16:49.520Z"
   },
   {
    "duration": 14,
    "start_time": "2024-03-22T18:16:49.525Z"
   },
   {
    "duration": 13,
    "start_time": "2024-03-22T18:16:49.541Z"
   },
   {
    "duration": 27,
    "start_time": "2024-03-22T18:16:49.556Z"
   },
   {
    "duration": 37,
    "start_time": "2024-03-22T18:16:49.585Z"
   },
   {
    "duration": 67,
    "start_time": "2024-03-22T18:16:49.624Z"
   },
   {
    "duration": 26,
    "start_time": "2024-03-22T18:16:49.693Z"
   },
   {
    "duration": 67,
    "start_time": "2024-03-22T18:16:49.721Z"
   },
   {
    "duration": 100,
    "start_time": "2024-03-22T18:16:49.789Z"
   },
   {
    "duration": 55,
    "start_time": "2024-03-22T18:16:49.890Z"
   },
   {
    "duration": 62,
    "start_time": "2024-03-22T18:16:49.947Z"
   },
   {
    "duration": 10,
    "start_time": "2024-03-22T18:16:50.011Z"
   },
   {
    "duration": 68,
    "start_time": "2024-03-22T18:16:50.023Z"
   },
   {
    "duration": 12,
    "start_time": "2024-03-22T18:16:50.093Z"
   },
   {
    "duration": 10,
    "start_time": "2024-03-22T18:16:50.107Z"
   },
   {
    "duration": 6,
    "start_time": "2024-03-22T18:16:50.118Z"
   },
   {
    "duration": 1616,
    "start_time": "2024-03-22T18:16:50.126Z"
   },
   {
    "duration": 0,
    "start_time": "2024-03-22T18:16:51.745Z"
   },
   {
    "duration": 0,
    "start_time": "2024-03-22T18:16:51.745Z"
   },
   {
    "duration": 0,
    "start_time": "2024-03-22T18:16:51.746Z"
   },
   {
    "duration": 0,
    "start_time": "2024-03-22T18:16:51.747Z"
   },
   {
    "duration": 0,
    "start_time": "2024-03-22T18:16:51.748Z"
   },
   {
    "duration": 0,
    "start_time": "2024-03-22T18:16:51.749Z"
   },
   {
    "duration": 0,
    "start_time": "2024-03-22T18:16:51.750Z"
   },
   {
    "duration": 0,
    "start_time": "2024-03-22T18:16:51.751Z"
   },
   {
    "duration": 0,
    "start_time": "2024-03-22T18:16:51.752Z"
   },
   {
    "duration": 0,
    "start_time": "2024-03-22T18:16:51.753Z"
   },
   {
    "duration": 0,
    "start_time": "2024-03-22T18:16:51.753Z"
   },
   {
    "duration": 0,
    "start_time": "2024-03-22T18:16:51.754Z"
   },
   {
    "duration": 0,
    "start_time": "2024-03-22T18:16:51.755Z"
   },
   {
    "duration": 0,
    "start_time": "2024-03-22T18:16:51.756Z"
   },
   {
    "duration": 0,
    "start_time": "2024-03-22T18:16:51.757Z"
   },
   {
    "duration": 0,
    "start_time": "2024-03-22T18:16:51.758Z"
   },
   {
    "duration": 0,
    "start_time": "2024-03-22T18:16:51.758Z"
   },
   {
    "duration": 418,
    "start_time": "2024-03-22T18:17:43.144Z"
   },
   {
    "duration": 172,
    "start_time": "2024-03-22T18:17:43.563Z"
   },
   {
    "duration": 32,
    "start_time": "2024-03-22T18:17:43.740Z"
   },
   {
    "duration": 49,
    "start_time": "2024-03-22T18:17:43.774Z"
   },
   {
    "duration": 3,
    "start_time": "2024-03-22T18:17:43.824Z"
   },
   {
    "duration": 10,
    "start_time": "2024-03-22T18:17:43.829Z"
   },
   {
    "duration": 30,
    "start_time": "2024-03-22T18:17:43.840Z"
   },
   {
    "duration": 6,
    "start_time": "2024-03-22T18:17:43.872Z"
   },
   {
    "duration": 26,
    "start_time": "2024-03-22T18:17:43.880Z"
   },
   {
    "duration": 63,
    "start_time": "2024-03-22T18:17:43.907Z"
   },
   {
    "duration": 28,
    "start_time": "2024-03-22T18:17:43.971Z"
   },
   {
    "duration": 72,
    "start_time": "2024-03-22T18:17:44.001Z"
   },
   {
    "duration": 107,
    "start_time": "2024-03-22T18:17:44.074Z"
   },
   {
    "duration": 55,
    "start_time": "2024-03-22T18:17:44.182Z"
   },
   {
    "duration": 58,
    "start_time": "2024-03-22T18:17:44.238Z"
   },
   {
    "duration": 9,
    "start_time": "2024-03-22T18:17:44.297Z"
   },
   {
    "duration": 42,
    "start_time": "2024-03-22T18:17:44.308Z"
   },
   {
    "duration": 27,
    "start_time": "2024-03-22T18:17:44.351Z"
   },
   {
    "duration": 15,
    "start_time": "2024-03-22T18:17:44.380Z"
   },
   {
    "duration": 14,
    "start_time": "2024-03-22T18:17:44.397Z"
   },
   {
    "duration": 25,
    "start_time": "2024-03-22T18:17:44.412Z"
   },
   {
    "duration": 31,
    "start_time": "2024-03-22T18:17:44.438Z"
   },
   {
    "duration": 14,
    "start_time": "2024-03-22T18:17:44.471Z"
   },
   {
    "duration": 13,
    "start_time": "2024-03-22T18:17:44.486Z"
   },
   {
    "duration": 15,
    "start_time": "2024-03-22T18:17:44.501Z"
   },
   {
    "duration": 14,
    "start_time": "2024-03-22T18:17:44.517Z"
   },
   {
    "duration": 2,
    "start_time": "2024-03-22T18:17:44.571Z"
   },
   {
    "duration": 6,
    "start_time": "2024-03-22T18:17:44.574Z"
   },
   {
    "duration": 14,
    "start_time": "2024-03-22T18:17:44.581Z"
   },
   {
    "duration": 117,
    "start_time": "2024-03-22T18:17:44.596Z"
   },
   {
    "duration": 0,
    "start_time": "2024-03-22T18:17:44.714Z"
   },
   {
    "duration": 0,
    "start_time": "2024-03-22T18:17:44.715Z"
   },
   {
    "duration": 0,
    "start_time": "2024-03-22T18:17:44.716Z"
   },
   {
    "duration": 0,
    "start_time": "2024-03-22T18:17:44.717Z"
   },
   {
    "duration": 0,
    "start_time": "2024-03-22T18:17:44.718Z"
   },
   {
    "duration": 0,
    "start_time": "2024-03-22T18:17:44.719Z"
   },
   {
    "duration": 0,
    "start_time": "2024-03-22T18:17:44.720Z"
   },
   {
    "duration": 0,
    "start_time": "2024-03-22T18:17:44.721Z"
   },
   {
    "duration": 91,
    "start_time": "2024-03-22T18:42:42.180Z"
   },
   {
    "duration": 10,
    "start_time": "2024-03-22T18:45:57.611Z"
   },
   {
    "duration": 11,
    "start_time": "2024-03-22T18:46:02.644Z"
   },
   {
    "duration": 11,
    "start_time": "2024-03-22T18:46:03.531Z"
   },
   {
    "duration": 415,
    "start_time": "2024-03-22T18:58:03.828Z"
   },
   {
    "duration": 197,
    "start_time": "2024-03-22T18:58:04.245Z"
   },
   {
    "duration": 18,
    "start_time": "2024-03-22T18:58:04.443Z"
   },
   {
    "duration": 34,
    "start_time": "2024-03-22T18:58:04.469Z"
   },
   {
    "duration": 2,
    "start_time": "2024-03-22T18:58:04.505Z"
   },
   {
    "duration": 23,
    "start_time": "2024-03-22T18:58:04.508Z"
   },
   {
    "duration": 17,
    "start_time": "2024-03-22T18:58:04.533Z"
   },
   {
    "duration": 5,
    "start_time": "2024-03-22T18:58:04.551Z"
   },
   {
    "duration": 36,
    "start_time": "2024-03-22T18:58:04.557Z"
   },
   {
    "duration": 42,
    "start_time": "2024-03-22T18:58:04.597Z"
   },
   {
    "duration": 48,
    "start_time": "2024-03-22T18:58:04.641Z"
   },
   {
    "duration": 85,
    "start_time": "2024-03-22T18:58:04.691Z"
   },
   {
    "duration": 118,
    "start_time": "2024-03-22T18:58:04.778Z"
   },
   {
    "duration": 72,
    "start_time": "2024-03-22T18:58:04.898Z"
   },
   {
    "duration": 58,
    "start_time": "2024-03-22T18:58:04.973Z"
   },
   {
    "duration": 12,
    "start_time": "2024-03-22T18:58:05.033Z"
   },
   {
    "duration": 63,
    "start_time": "2024-03-22T18:58:05.047Z"
   },
   {
    "duration": 14,
    "start_time": "2024-03-22T18:58:05.112Z"
   },
   {
    "duration": 12,
    "start_time": "2024-03-22T18:58:05.128Z"
   },
   {
    "duration": 28,
    "start_time": "2024-03-22T18:58:05.141Z"
   },
   {
    "duration": 20,
    "start_time": "2024-03-22T18:58:05.171Z"
   },
   {
    "duration": 16,
    "start_time": "2024-03-22T18:58:05.193Z"
   },
   {
    "duration": 16,
    "start_time": "2024-03-22T18:58:05.211Z"
   },
   {
    "duration": 41,
    "start_time": "2024-03-22T18:58:05.229Z"
   },
   {
    "duration": 19,
    "start_time": "2024-03-22T18:58:05.272Z"
   },
   {
    "duration": 21,
    "start_time": "2024-03-22T18:58:05.293Z"
   },
   {
    "duration": 106,
    "start_time": "2024-03-22T18:58:05.315Z"
   },
   {
    "duration": 16,
    "start_time": "2024-03-22T18:58:05.424Z"
   },
   {
    "duration": 27,
    "start_time": "2024-03-22T18:58:05.442Z"
   },
   {
    "duration": 5,
    "start_time": "2024-03-22T18:58:05.472Z"
   },
   {
    "duration": 22,
    "start_time": "2024-03-22T18:58:05.479Z"
   },
   {
    "duration": 11,
    "start_time": "2024-03-22T18:58:05.503Z"
   },
   {
    "duration": 3,
    "start_time": "2024-03-22T18:58:05.516Z"
   },
   {
    "duration": 5,
    "start_time": "2024-03-22T18:58:05.521Z"
   },
   {
    "duration": 15,
    "start_time": "2024-03-22T18:58:05.528Z"
   },
   {
    "duration": 11,
    "start_time": "2024-03-22T18:58:05.545Z"
   },
   {
    "duration": 12,
    "start_time": "2024-03-22T18:58:05.558Z"
   },
   {
    "duration": 12,
    "start_time": "2024-03-22T18:58:05.571Z"
   },
   {
    "duration": 5,
    "start_time": "2024-03-22T19:02:04.353Z"
   },
   {
    "duration": 23,
    "start_time": "2024-03-22T19:02:05.787Z"
   },
   {
    "duration": 13,
    "start_time": "2024-03-22T19:02:13.571Z"
   },
   {
    "duration": 22,
    "start_time": "2024-03-22T19:02:25.083Z"
   },
   {
    "duration": 15,
    "start_time": "2024-03-22T19:02:28.258Z"
   },
   {
    "duration": 15,
    "start_time": "2024-03-22T19:10:26.069Z"
   },
   {
    "duration": 5,
    "start_time": "2024-03-22T19:11:28.112Z"
   },
   {
    "duration": 7,
    "start_time": "2024-03-22T19:13:29.833Z"
   },
   {
    "duration": 4,
    "start_time": "2024-03-22T19:14:03.354Z"
   }
  ],
  "celltoolbar": "Отсутствует",
  "colab": {
   "collapsed_sections": [
    "E0vqbgi9ay0H",
    "VUC88oWjTJw2"
   ],
   "provenance": []
  },
  "kernelspec": {
   "display_name": "Python 3 (ipykernel)",
   "language": "python",
   "name": "python3"
  },
  "language_info": {
   "codemirror_mode": {
    "name": "ipython",
    "version": 3
   },
   "file_extension": ".py",
   "mimetype": "text/x-python",
   "name": "python",
   "nbconvert_exporter": "python",
   "pygments_lexer": "ipython3",
   "version": "3.9.19"
  },
  "toc": {
   "base_numbering": 1,
   "nav_menu": {
    "height": "215px",
    "width": "403px"
   },
   "number_sections": true,
   "sideBar": true,
   "skip_h1_title": true,
   "title_cell": "Table of Contents",
   "title_sidebar": "Contents",
   "toc_cell": false,
   "toc_position": {
    "height": "calc(100% - 180px)",
    "left": "10px",
    "top": "150px",
    "width": "285.825px"
   },
   "toc_section_display": true,
   "toc_window_display": false
  }
 },
 "nbformat": 4,
 "nbformat_minor": 4
}
